{
 "cells": [
  {
   "cell_type": "code",
   "execution_count": 6,
   "id": "6c9299b3",
   "metadata": {},
   "outputs": [
    {
     "name": "stdout",
     "output_type": "stream",
     "text": [
      "Welcome to Notebooks in vscode!\n"
     ]
    }
   ],
   "source": [
    "msg = \"Welcome to Notebooks in vscode!\"\n",
    "print(msg)"
   ]
  },
  {
   "cell_type": "markdown",
   "id": "2b784bcb",
   "metadata": {},
   "source": [
    "# 1 Entering Expressions into the Interactive Shell\n",
    "\n",
    "* Interactive Shell\n",
    "* REPL Shell (Read-Evaluate-Print-Loop)"
   ]
  },
  {
   "cell_type": "markdown",
   "id": "0f970e50",
   "metadata": {},
   "source": [
    "**Expressions** consist of\n",
    "\n",
    "* values (such as `2`) and\n",
    "* operator (such as `+`),\n",
    "* and they can always evaluate (that is, reduce) down to ***a single value***.\n",
    "\n",
    "[Python Interactive Shell](https://dsaint31.tistory.com/505)\n",
    "\n",
    "[Arithmetic Operators](https://dsaint31.tistory.com/516)\n",
    "\n",
    "[그 외 operators](https://ds31x.tistory.com/54)"
   ]
  },
  {
   "cell_type": "code",
   "execution_count": 6,
   "id": "413fba90",
   "metadata": {},
   "outputs": [
    {
     "data": {
      "text/plain": [
       "4"
      ]
     },
     "execution_count": 6,
     "metadata": {},
     "output_type": "execute_result"
    }
   ],
   "source": [
    "2+2"
   ]
  },
  {
   "cell_type": "markdown",
   "id": "b06503da",
   "metadata": {},
   "source": [
    "IPython shell이나 Jupyter Note, REPL Shell 모두 셀의 최종 statement가 expression인 경우, evaluation의 결과 값이 출력됨."
   ]
  },
  {
   "cell_type": "code",
   "execution_count": 9,
   "id": "486c1047",
   "metadata": {},
   "outputs": [
    {
     "data": {
      "text/plain": [
       "-4"
      ]
     },
     "execution_count": 9,
     "metadata": {},
     "output_type": "execute_result"
    }
   ],
   "source": [
    "-2 ** 2 # exponentionation"
   ]
  },
  {
   "cell_type": "code",
   "execution_count": 8,
   "id": "b767df50",
   "metadata": {},
   "outputs": [
    {
     "data": {
      "text/plain": [
       "-4"
      ]
     },
     "execution_count": 8,
     "metadata": {},
     "output_type": "execute_result"
    }
   ],
   "source": [
    "-23 // 7 # integer division"
   ]
  },
  {
   "cell_type": "code",
   "execution_count": 7,
   "id": "b4f3b35c",
   "metadata": {},
   "outputs": [
    {
     "data": {
      "text/plain": [
       "5"
      ]
     },
     "execution_count": 7,
     "metadata": {},
     "output_type": "execute_result"
    }
   ],
   "source": [
    "-23 % 7 # modular arithmetic"
   ]
  },
  {
   "cell_type": "code",
   "execution_count": 5,
   "id": "539e4381",
   "metadata": {},
   "outputs": [
    {
     "data": {
      "text/plain": [
       "16.0"
      ]
     },
     "execution_count": 5,
     "metadata": {},
     "output_type": "execute_result"
    }
   ],
   "source": [
    "(5-1) * ( (7+1) / (3-1))"
   ]
  },
  {
   "cell_type": "markdown",
   "id": "4026ff7a",
   "metadata": {},
   "source": [
    "If you enter a bad Python instruction, Python won’t be able to understand it and will display a SyntaxError error message, as shown here:"
   ]
  },
  {
   "cell_type": "code",
   "execution_count": 10,
   "id": "2dec48c4",
   "metadata": {},
   "outputs": [
    {
     "ename": "SyntaxError",
     "evalue": "invalid syntax (3142945653.py, line 1)",
     "output_type": "error",
     "traceback": [
      "\u001b[0;36m  Cell \u001b[0;32mIn[10], line 1\u001b[0;36m\u001b[0m\n\u001b[0;31m    5 +\u001b[0m\n\u001b[0m       ^\u001b[0m\n\u001b[0;31mSyntaxError\u001b[0m\u001b[0;31m:\u001b[0m invalid syntax\n"
     ]
    }
   ],
   "source": [
    "5 +"
   ]
  },
  {
   "cell_type": "code",
   "execution_count": 11,
   "id": "5471ac51",
   "metadata": {},
   "outputs": [
    {
     "ename": "SyntaxError",
     "evalue": "invalid syntax (3854472213.py, line 1)",
     "output_type": "error",
     "traceback": [
      "\u001b[0;36m  Cell \u001b[0;32mIn[11], line 1\u001b[0;36m\u001b[0m\n\u001b[0;31m    42 + 5 + * 2\u001b[0m\n\u001b[0m             ^\u001b[0m\n\u001b[0;31mSyntaxError\u001b[0m\u001b[0;31m:\u001b[0m invalid syntax\n"
     ]
    }
   ],
   "source": [
    "42 + 5 + * 2"
   ]
  },
  {
   "cell_type": "code",
   "execution_count": 12,
   "id": "45a29750",
   "metadata": {},
   "outputs": [
    {
     "name": "stdout",
     "output_type": "stream",
     "text": [
      "other indent\n",
      "0\n",
      "1\n",
      "2\n",
      "3\n",
      "4\n",
      "5\n",
      "6\n",
      "7\n",
      "8\n",
      "9\n"
     ]
    }
   ],
   "source": [
    "import time\n",
    "import math\n",
    "import os\n",
    "\n",
    "if True:\n",
    "    print(\"other indent\")\n",
    "\n",
    "for i in range(10):\n",
    "\n",
    "    print(i)\n",
    "    time.sleep(.5)\n",
    "\n",
    "    "
   ]
  },
  {
   "cell_type": "markdown",
   "id": "b94a98df",
   "metadata": {},
   "source": [
    "# 2 String Concatenation and Replication"
   ]
  },
  {
   "cell_type": "code",
   "execution_count": 12,
   "id": "72228314",
   "metadata": {},
   "outputs": [
    {
     "data": {
      "text/plain": [
       "'Alice철수'"
      ]
     },
     "execution_count": 12,
     "metadata": {},
     "output_type": "execute_result"
    }
   ],
   "source": [
    "'Alice' + '철수'"
   ]
  },
  {
   "cell_type": "code",
   "execution_count": 13,
   "id": "d0facd5f",
   "metadata": {},
   "outputs": [
    {
     "ename": "TypeError",
     "evalue": "can only concatenate str (not \"int\") to str",
     "output_type": "error",
     "traceback": [
      "\u001b[0;31m---------------------------------------------------------------------------\u001b[0m",
      "\u001b[0;31mTypeError\u001b[0m                                 Traceback (most recent call last)",
      "Cell \u001b[0;32mIn[13], line 1\u001b[0m\n\u001b[0;32m----> 1\u001b[0m \u001b[38;5;124;43m'\u001b[39;49m\u001b[38;5;124;43m철수\u001b[39;49m\u001b[38;5;124;43m'\u001b[39;49m\u001b[43m \u001b[49m\u001b[38;5;241;43m+\u001b[39;49m\u001b[43m \u001b[49m\u001b[38;5;241;43m43\u001b[39;49m\n",
      "\u001b[0;31mTypeError\u001b[0m: can only concatenate str (not \"int\") to str"
     ]
    }
   ],
   "source": [
    "'철수' + 43"
   ]
  },
  {
   "cell_type": "code",
   "execution_count": 14,
   "id": "d8a9d0c8",
   "metadata": {},
   "outputs": [
    {
     "data": {
      "text/plain": [
       "'철수철수철수철수철수'"
      ]
     },
     "execution_count": 14,
     "metadata": {},
     "output_type": "execute_result"
    }
   ],
   "source": [
    "'철수' * 5"
   ]
  },
  {
   "cell_type": "code",
   "execution_count": 15,
   "id": "3147d604",
   "metadata": {},
   "outputs": [
    {
     "ename": "TypeError",
     "evalue": "can't multiply sequence by non-int of type 'float'",
     "output_type": "error",
     "traceback": [
      "\u001b[0;31m---------------------------------------------------------------------------\u001b[0m",
      "\u001b[0;31mTypeError\u001b[0m                                 Traceback (most recent call last)",
      "Cell \u001b[0;32mIn[15], line 1\u001b[0m\n\u001b[0;32m----> 1\u001b[0m \u001b[38;5;124;43m'\u001b[39;49m\u001b[38;5;124;43m철수\u001b[39;49m\u001b[38;5;124;43m'\u001b[39;49m\u001b[43m \u001b[49m\u001b[38;5;241;43m*\u001b[39;49m\u001b[43m \u001b[49m\u001b[38;5;241;43m5.0\u001b[39;49m\n",
      "\u001b[0;31mTypeError\u001b[0m: can't multiply sequence by non-int of type 'float'"
     ]
    }
   ],
   "source": [
    "'철수' * 5.0"
   ]
  },
  {
   "cell_type": "code",
   "execution_count": 16,
   "id": "9b42b7db",
   "metadata": {},
   "outputs": [
    {
     "ename": "TypeError",
     "evalue": "can't multiply sequence by non-int of type 'str'",
     "output_type": "error",
     "traceback": [
      "\u001b[0;31m---------------------------------------------------------------------------\u001b[0m",
      "\u001b[0;31mTypeError\u001b[0m                                 Traceback (most recent call last)",
      "Cell \u001b[0;32mIn[16], line 1\u001b[0m\n\u001b[0;32m----> 1\u001b[0m \u001b[38;5;124;43m'\u001b[39;49m\u001b[38;5;124;43m철수\u001b[39;49m\u001b[38;5;124;43m'\u001b[39;49m\u001b[43m \u001b[49m\u001b[38;5;241;43m*\u001b[39;49m\u001b[43m \u001b[49m\u001b[38;5;124;43m'\u001b[39;49m\u001b[38;5;124;43mAlice\u001b[39;49m\u001b[38;5;124;43m'\u001b[39;49m\n",
      "\u001b[0;31mTypeError\u001b[0m: can't multiply sequence by non-int of type 'str'"
     ]
    }
   ],
   "source": [
    "'철수' * 'Alice'"
   ]
  },
  {
   "cell_type": "markdown",
   "id": "5dae2463",
   "metadata": {},
   "source": [
    "# 3 Storing Values in Variables"
   ]
  },
  {
   "cell_type": "markdown",
   "id": "195da93f",
   "metadata": {},
   "source": [
    "[Assignment 는 Statement이지 Expression은 아님](https://dsaint31.tistory.com/531)"
   ]
  },
  {
   "cell_type": "code",
   "execution_count": 28,
   "id": "7c58b9f7",
   "metadata": {},
   "outputs": [
    {
     "data": {
      "text/plain": [
       "40"
      ]
     },
     "execution_count": 28,
     "metadata": {},
     "output_type": "execute_result"
    }
   ],
   "source": [
    "spam = 40\n",
    "spam"
   ]
  },
  {
   "cell_type": "code",
   "execution_count": null,
   "id": "dd8b318e",
   "metadata": {},
   "outputs": [],
   "source": [
    "eggs = 2"
   ]
  },
  {
   "cell_type": "code",
   "execution_count": 19,
   "id": "acfa9120",
   "metadata": {},
   "outputs": [
    {
     "data": {
      "text/plain": [
       "82"
      ]
     },
     "execution_count": 19,
     "metadata": {},
     "output_type": "execute_result"
    }
   ],
   "source": [
    "spam + eggs + spam"
   ]
  },
  {
   "cell_type": "code",
   "execution_count": 20,
   "id": "316f5864",
   "metadata": {},
   "outputs": [
    {
     "data": {
      "text/plain": [
       "'Hello'"
      ]
     },
     "execution_count": 20,
     "metadata": {},
     "output_type": "execute_result"
    }
   ],
   "source": [
    "spam = 'Hello'\n",
    "spam"
   ]
  },
  {
   "cell_type": "code",
   "execution_count": 21,
   "id": "d05d5d04",
   "metadata": {},
   "outputs": [
    {
     "data": {
      "text/plain": [
       "'hi'"
      ]
     },
     "execution_count": 21,
     "metadata": {},
     "output_type": "execute_result"
    }
   ],
   "source": [
    "spam = 'hi'\n",
    "spam"
   ]
  },
  {
   "cell_type": "markdown",
   "id": "d6a6627c",
   "metadata": {},
   "source": [
    "Variable Name은 PEP8에 의해 snake case (or snake notation)을 권장하나, 일관되게 사용하는 것이 보다 중요\n",
    "\n",
    "* [Naming Convention](https://ds31x.blogspot.com/2023/07/etc-naming-convention.html)\n",
    "* [Python Enhancement Proposal 8 (PEP 8): Style Guide for Python Code](https://ds31x.tistory.com/61)\n",
    "* [Naming Rule](https://dsaint31.tistory.com/517#2.%20Naming%20Rules%20(convention%EC%9D%B4%20%EC%95%84%EB%8B%98!)-1-2)\n",
    "\n",
    "[Variable 과 Object에 대한 참고자료](https://dsaint31.tistory.com/517)"
   ]
  },
  {
   "cell_type": "markdown",
   "id": "d0474e31",
   "metadata": {},
   "source": [
    "# 4 First Module"
   ]
  },
  {
   "cell_type": "code",
   "execution_count": 27,
   "id": "7dda1e72",
   "metadata": {},
   "outputs": [
    {
     "name": "stdout",
     "output_type": "stream",
     "text": [
      "Overwriting hello.py\n"
     ]
    }
   ],
   "source": [
    "%%writefile hello.py\n",
    "# This program says hello and asks for my name.\n",
    "\n",
    "print('Hello, world!')\n",
    "print('What is your name?')  # Ask for their name.\n",
    "my_name = input('>')\n",
    "print('It is good to meet you, ' + my_name)\n",
    "print('The length of your name is:')\n",
    "print(len(my_name))\n",
    "print('What is your age?')  # Ask for their age.\n",
    "my_age = input('>')\n",
    "print('You will be ' + str(int(my_age) + 1) + ' in a year.')"
   ]
  },
  {
   "cell_type": "markdown",
   "id": "9043d857",
   "metadata": {},
   "source": [
    "사용자 입력이 필요하므로, `CTRL+\\`` 으로 터미널에서 실행.\n",
    "\n",
    "```\n",
    "python hello.py\n",
    "```"
   ]
  },
  {
   "cell_type": "markdown",
   "id": "16d38fff",
   "metadata": {},
   "source": [
    "* `#` 다음의 문자열은 주석(comment)로 python interpreter는 무시.\n",
    "* [`print()` built-in function](https://ds31x.tistory.com/410)\n",
    "* [`input()` built-in function은 blocking mode로 동작](https://ds31x.tistory.com/128)\n",
    "* [`len()` built-in function: `Sized` 객체의 item의 수 반환](https://ds31x.tistory.com/241#3.-%EB%8C%80%ED%91%9C%EC%A0%81%EC%9D%B8-classes)\n",
    "* [`str()`, `float()`, `int()` 는 생성자!](https://dsaint31.tistory.com/515)\n",
    "* [`type()` built-in function: Object의 타입을 반환](https://ds31x.tistory.com/404)\n",
    "* `round()`, `abs()` : bulit-in function"
   ]
  },
  {
   "cell_type": "markdown",
   "id": "0cae0d5a",
   "metadata": {},
   "source": [
    "# 참고: TeX 테스트"
   ]
  },
  {
   "cell_type": "code",
   "execution_count": 29,
   "id": "957b62d3",
   "metadata": {},
   "outputs": [
    {
     "name": "stdout",
     "output_type": "stream",
     "text": [
      "pdfTeX 3.141592653-2.6-1.40.27 (TeX Live 2025)\n",
      "kpathsea version 6.4.1\n",
      "Copyright 2025 Han The Thanh (pdfTeX) et al.\n",
      "There is NO warranty.  Redistribution of this software is\n",
      "covered by the terms of both the pdfTeX copyright and\n",
      "the Lesser GNU General Public License.\n",
      "For more information about these matters, see the file\n",
      "named COPYING and the pdfTeX source.\n",
      "Primary author of pdfTeX: Han The Thanh (pdfTeX) et al.\n",
      "Compiled with libpng 1.6.46; using libpng 1.6.46\n",
      "Compiled with zlib 1.3.1; using zlib 1.3.1\n",
      "Compiled with xpdf version 4.04\n",
      "\n"
     ]
    }
   ],
   "source": [
    "# Jupyter cell에서 테스트\n",
    "import subprocess\n",
    "result = subprocess.run(['pdflatex', '--version'], capture_output=True, text=True)\n",
    "print(result.stdout)"
   ]
  },
  {
   "cell_type": "code",
   "execution_count": null,
   "id": "628b2535",
   "metadata": {},
   "outputs": [],
   "source": []
  }
 ],
 "metadata": {
  "kernelspec": {
   "display_name": "jupyternote",
   "language": "python",
   "name": "python3"
  },
  "language_info": {
   "codemirror_mode": {
    "name": "ipython",
    "version": 3
   },
   "file_extension": ".py",
   "mimetype": "text/x-python",
   "name": "python",
   "nbconvert_exporter": "python",
   "pygments_lexer": "ipython3",
   "version": "3.10.18"
  }
 },
 "nbformat": 4,
 "nbformat_minor": 5
}
