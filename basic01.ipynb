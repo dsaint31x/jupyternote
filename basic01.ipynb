{
 "cells": [
  {
   "cell_type": "code",
   "execution_count": null,
   "id": "6c9299b3",
   "metadata": {},
   "outputs": [
    {
     "name": "stdout",
     "output_type": "stream",
     "text": [
      "Welcome to Notebooks in vscode!\n"
     ]
    }
   ],
   "source": [
    "msg = \"Welcome to Notebooks in vscode!\"\n",
    "print(msg)"
   ]
  },
  {
   "cell_type": "markdown",
   "id": "37c565f0",
   "metadata": {},
   "source": [
    "### New Paragraph\n",
    "This is *markdown* **text** with [links](http://ipython.org),\n",
    "equations:\n",
    "$$\\hat{f}(\\xi)= \\int_{-\\infty}^{+\\infty} f(x) \\,\n",
    "\\mathrm{e}^{-i \\xi x}$$\n",
    "code with syntax highlighting:\t\n",
    "'''python\n",
    "print(\"Hello World\")\n"
   ]
  },
  {
   "cell_type": "code",
   "execution_count": 4,
   "id": "19b12500",
   "metadata": {},
   "outputs": [
    {
     "name": "stdout",
     "output_type": "stream",
     "text": [
      "\u001b[0;31mSignature:\u001b[0m \u001b[0mlen\u001b[0m\u001b[0;34m(\u001b[0m\u001b[0mobj\u001b[0m\u001b[0;34m,\u001b[0m \u001b[0;34m/\u001b[0m\u001b[0;34m)\u001b[0m\u001b[0;34m\u001b[0m\u001b[0;34m\u001b[0m\u001b[0m\n",
      "\u001b[0;31mDocstring:\u001b[0m Return the number of items in a container.\n",
      "\u001b[0;31mType:\u001b[0m      builtin_function_or_method"
     ]
    }
   ],
   "source": [
    "len?"
   ]
  },
  {
   "cell_type": "code",
   "execution_count": 5,
   "id": "77dec33d",
   "metadata": {},
   "outputs": [
    {
     "name": "stdout",
     "output_type": "stream",
     "text": [
      "\u001b[0;31mSignature:\u001b[0m \u001b[0mlen\u001b[0m\u001b[0;34m(\u001b[0m\u001b[0mobj\u001b[0m\u001b[0;34m,\u001b[0m \u001b[0;34m/\u001b[0m\u001b[0;34m)\u001b[0m\u001b[0;34m\u001b[0m\u001b[0;34m\u001b[0m\u001b[0m\n",
      "\u001b[0;31mDocstring:\u001b[0m Return the number of items in a container.\n",
      "\u001b[0;31mType:\u001b[0m      builtin_function_or_method"
     ]
    }
   ],
   "source": [
    "len??"
   ]
  },
  {
   "cell_type": "code",
   "execution_count": 8,
   "id": "d2ba4f3a",
   "metadata": {},
   "outputs": [
    {
     "name": "stdout",
     "output_type": "stream",
     "text": [
      "\u001b[0;31mSignature:\u001b[0m \u001b[0mgreet\u001b[0m\u001b[0;34m(\u001b[0m\u001b[0mname\u001b[0m\u001b[0;34m)\u001b[0m\u001b[0;34m\u001b[0m\u001b[0;34m\u001b[0m\u001b[0m\n",
      "\u001b[0;31mDocstring:\u001b[0m Print a greeting.\n",
      "\u001b[0;31mFile:\u001b[0m      /var/folders/6n/grf8h_7d7ys6q44729rjqss00000gn/T/ipykernel_13352/1592606303.py\n",
      "\u001b[0;31mType:\u001b[0m      function"
     ]
    }
   ],
   "source": [
    "def greet(name):\n",
    "    \"\"\"Print a greeting.\"\"\"\n",
    "    print(f\"Hello, {name}!\")\n",
    "\n",
    "greet?"
   ]
  },
  {
   "cell_type": "code",
   "execution_count": 9,
   "id": "16737077",
   "metadata": {},
   "outputs": [
    {
     "name": "stdout",
     "output_type": "stream",
     "text": [
      "\u001b[0;31mSignature:\u001b[0m \u001b[0mgreet\u001b[0m\u001b[0;34m(\u001b[0m\u001b[0mname\u001b[0m\u001b[0;34m)\u001b[0m\u001b[0;34m\u001b[0m\u001b[0;34m\u001b[0m\u001b[0m\n",
      "\u001b[0;31mSource:\u001b[0m   \n",
      "\u001b[0;32mdef\u001b[0m \u001b[0mgreet\u001b[0m\u001b[0;34m(\u001b[0m\u001b[0mname\u001b[0m\u001b[0;34m)\u001b[0m\u001b[0;34m:\u001b[0m\u001b[0;34m\u001b[0m\n",
      "\u001b[0;34m\u001b[0m    \u001b[0;34m\"\"\"Print a greeting.\"\"\"\u001b[0m\u001b[0;34m\u001b[0m\n",
      "\u001b[0;34m\u001b[0m    \u001b[0mprint\u001b[0m\u001b[0;34m(\u001b[0m\u001b[0;34mf\"Hello, {name}!\"\u001b[0m\u001b[0;34m)\u001b[0m\u001b[0;34m\u001b[0m\u001b[0;34m\u001b[0m\u001b[0m\n",
      "\u001b[0;31mFile:\u001b[0m      /var/folders/6n/grf8h_7d7ys6q44729rjqss00000gn/T/ipykernel_13352/1592606303.py\n",
      "\u001b[0;31mType:\u001b[0m      function"
     ]
    }
   ],
   "source": [
    "greet??"
   ]
  },
  {
   "cell_type": "markdown",
   "id": "2b784bcb",
   "metadata": {},
   "source": [
    "# 1 Entering Expressions into the Interactive Shell\n",
    "\n",
    "* Interactive Shell\n",
    "* REPL Shell (Read-Evaluate-Print-Loop)"
   ]
  },
  {
   "cell_type": "markdown",
   "id": "0f970e50",
   "metadata": {},
   "source": [
    "**Expressions** consist of\n",
    "\n",
    "* values (such as `2`) and\n",
    "* operator (such as `+`),\n",
    "* and they can always evaluate (that is, reduce) down to ***a single value***.\n",
    "\n",
    "[Python Interactive Shell](https://dsaint31.tistory.com/505)\n",
    "\n",
    "[Arithmetic Operators](https://dsaint31.tistory.com/516)\n",
    "\n",
    "[그 외 operators](https://ds31x.tistory.com/54)"
   ]
  },
  {
   "cell_type": "code",
   "execution_count": 4,
   "id": "413fba90",
   "metadata": {},
   "outputs": [
    {
     "data": {
      "text/plain": [
       "4"
      ]
     },
     "execution_count": 4,
     "metadata": {},
     "output_type": "execute_result"
    }
   ],
   "source": [
    "2+2"
   ]
  },
  {
   "cell_type": "markdown",
   "id": "b06503da",
   "metadata": {},
   "source": [
    "IPython shell이나 Jupyter Note, REPL Shell 모두 셀의 최종 statement가 expression인 경우, evaluation의 결과 값이 출력됨."
   ]
  },
  {
   "cell_type": "code",
   "execution_count": 9,
   "id": "486c1047",
   "metadata": {},
   "outputs": [
    {
     "data": {
      "text/plain": [
       "-4"
      ]
     },
     "execution_count": 9,
     "metadata": {},
     "output_type": "execute_result"
    }
   ],
   "source": [
    "-2 ** 2 # exponentionation"
   ]
  },
  {
   "cell_type": "code",
   "execution_count": 8,
   "id": "b767df50",
   "metadata": {},
   "outputs": [
    {
     "data": {
      "text/plain": [
       "-4"
      ]
     },
     "execution_count": 8,
     "metadata": {},
     "output_type": "execute_result"
    }
   ],
   "source": [
    "-23 // 7 # integer division"
   ]
  },
  {
   "cell_type": "code",
   "execution_count": null,
   "id": "b4f3b35c",
   "metadata": {},
   "outputs": [
    {
     "data": {
      "text/plain": [
       "5"
      ]
     },
     "execution_count": 7,
     "metadata": {},
     "output_type": "execute_result"
    }
   ],
   "source": [
    "-23 % 7 # modular arithmetic"
   ]
  },
  {
   "cell_type": "code",
   "execution_count": 5,
   "id": "539e4381",
   "metadata": {},
   "outputs": [
    {
     "data": {
      "text/plain": [
       "16.0"
      ]
     },
     "execution_count": 5,
     "metadata": {},
     "output_type": "execute_result"
    }
   ],
   "source": [
    "(5-1) * ( (7+1) / (3-1))"
   ]
  },
  {
   "cell_type": "markdown",
   "id": "4026ff7a",
   "metadata": {},
   "source": [
    "If you enter a bad Python instruction, Python won’t be able to understand it and will display a SyntaxError error message, as shown here:"
   ]
  },
  {
   "cell_type": "code",
   "execution_count": 10,
   "id": "2dec48c4",
   "metadata": {},
   "outputs": [
    {
     "ename": "SyntaxError",
     "evalue": "invalid syntax (3142945653.py, line 1)",
     "output_type": "error",
     "traceback": [
      "\u001b[0;36m  Cell \u001b[0;32mIn[10], line 1\u001b[0;36m\u001b[0m\n\u001b[0;31m    5 +\u001b[0m\n\u001b[0m       ^\u001b[0m\n\u001b[0;31mSyntaxError\u001b[0m\u001b[0;31m:\u001b[0m invalid syntax\n"
     ]
    }
   ],
   "source": [
    "5 +"
   ]
  },
  {
   "cell_type": "code",
   "execution_count": 11,
   "id": "5471ac51",
   "metadata": {},
   "outputs": [
    {
     "ename": "SyntaxError",
     "evalue": "invalid syntax (3854472213.py, line 1)",
     "output_type": "error",
     "traceback": [
      "\u001b[0;36m  Cell \u001b[0;32mIn[11], line 1\u001b[0;36m\u001b[0m\n\u001b[0;31m    42 + 5 + * 2\u001b[0m\n\u001b[0m             ^\u001b[0m\n\u001b[0;31mSyntaxError\u001b[0m\u001b[0;31m:\u001b[0m invalid syntax\n"
     ]
    }
   ],
   "source": [
    "42 + 5 + * 2"
   ]
  },
  {
   "cell_type": "code",
   "execution_count": null,
   "id": "45a29750",
   "metadata": {},
   "outputs": [
    {
     "name": "stdout",
     "output_type": "stream",
     "text": [
      "other indent\n",
      "0\n",
      "1\n",
      "2\n",
      "3\n",
      "4\n",
      "5\n",
      "6\n",
      "7\n",
      "8\n",
      "9\n"
     ]
    }
   ],
   "source": [
    "import time\n",
    "import math\n",
    "import os\n",
    "\n",
    "if True:\n",
    "    print(\"other indent\")\n",
    "\n",
    "for i in range(10):\n",
    "\n",
    "    print(i)\n",
    "    time.sleep(.5)\n",
    "\n",
    "    "
   ]
  },
  {
   "cell_type": "markdown",
   "id": "b94a98df",
   "metadata": {},
   "source": [
    "# 2 String Concatenation and Replication"
   ]
  },
  {
   "cell_type": "code",
   "execution_count": 12,
   "id": "72228314",
   "metadata": {},
   "outputs": [
    {
     "data": {
      "text/plain": [
       "'Alice철수'"
      ]
     },
     "execution_count": 12,
     "metadata": {},
     "output_type": "execute_result"
    }
   ],
   "source": [
    "'Alice' + '철수'"
   ]
  },
  {
   "cell_type": "code",
   "execution_count": 13,
   "id": "d0facd5f",
   "metadata": {},
   "outputs": [
    {
     "ename": "TypeError",
     "evalue": "can only concatenate str (not \"int\") to str",
     "output_type": "error",
     "traceback": [
      "\u001b[0;31m---------------------------------------------------------------------------\u001b[0m",
      "\u001b[0;31mTypeError\u001b[0m                                 Traceback (most recent call last)",
      "Cell \u001b[0;32mIn[13], line 1\u001b[0m\n\u001b[0;32m----> 1\u001b[0m \u001b[38;5;124;43m'\u001b[39;49m\u001b[38;5;124;43m철수\u001b[39;49m\u001b[38;5;124;43m'\u001b[39;49m\u001b[43m \u001b[49m\u001b[38;5;241;43m+\u001b[39;49m\u001b[43m \u001b[49m\u001b[38;5;241;43m43\u001b[39;49m\n",
      "\u001b[0;31mTypeError\u001b[0m: can only concatenate str (not \"int\") to str"
     ]
    }
   ],
   "source": [
    "'철수' + 43"
   ]
  },
  {
   "cell_type": "code",
   "execution_count": 14,
   "id": "d8a9d0c8",
   "metadata": {},
   "outputs": [
    {
     "data": {
      "text/plain": [
       "'철수철수철수철수철수'"
      ]
     },
     "execution_count": 14,
     "metadata": {},
     "output_type": "execute_result"
    }
   ],
   "source": [
    "'철수' * 5"
   ]
  },
  {
   "cell_type": "code",
   "execution_count": 15,
   "id": "3147d604",
   "metadata": {},
   "outputs": [
    {
     "ename": "TypeError",
     "evalue": "can't multiply sequence by non-int of type 'float'",
     "output_type": "error",
     "traceback": [
      "\u001b[0;31m---------------------------------------------------------------------------\u001b[0m",
      "\u001b[0;31mTypeError\u001b[0m                                 Traceback (most recent call last)",
      "Cell \u001b[0;32mIn[15], line 1\u001b[0m\n\u001b[0;32m----> 1\u001b[0m \u001b[38;5;124;43m'\u001b[39;49m\u001b[38;5;124;43m철수\u001b[39;49m\u001b[38;5;124;43m'\u001b[39;49m\u001b[43m \u001b[49m\u001b[38;5;241;43m*\u001b[39;49m\u001b[43m \u001b[49m\u001b[38;5;241;43m5.0\u001b[39;49m\n",
      "\u001b[0;31mTypeError\u001b[0m: can't multiply sequence by non-int of type 'float'"
     ]
    }
   ],
   "source": [
    "'철수' * 5.0"
   ]
  },
  {
   "cell_type": "code",
   "execution_count": 16,
   "id": "9b42b7db",
   "metadata": {},
   "outputs": [
    {
     "ename": "TypeError",
     "evalue": "can't multiply sequence by non-int of type 'str'",
     "output_type": "error",
     "traceback": [
      "\u001b[0;31m---------------------------------------------------------------------------\u001b[0m",
      "\u001b[0;31mTypeError\u001b[0m                                 Traceback (most recent call last)",
      "Cell \u001b[0;32mIn[16], line 1\u001b[0m\n\u001b[0;32m----> 1\u001b[0m \u001b[38;5;124;43m'\u001b[39;49m\u001b[38;5;124;43m철수\u001b[39;49m\u001b[38;5;124;43m'\u001b[39;49m\u001b[43m \u001b[49m\u001b[38;5;241;43m*\u001b[39;49m\u001b[43m \u001b[49m\u001b[38;5;124;43m'\u001b[39;49m\u001b[38;5;124;43mAlice\u001b[39;49m\u001b[38;5;124;43m'\u001b[39;49m\n",
      "\u001b[0;31mTypeError\u001b[0m: can't multiply sequence by non-int of type 'str'"
     ]
    }
   ],
   "source": [
    "'철수' * 'Alice'"
   ]
  },
  {
   "cell_type": "markdown",
   "id": "5dae2463",
   "metadata": {},
   "source": [
    "# 3 Storing Values in Variables"
   ]
  },
  {
   "cell_type": "markdown",
   "id": "195da93f",
   "metadata": {},
   "source": [
    "[Assignment 는 Statement이지 Expression은 아님](https://dsaint31.tistory.com/531)"
   ]
  },
  {
   "cell_type": "code",
   "execution_count": 28,
   "id": "7c58b9f7",
   "metadata": {},
   "outputs": [
    {
     "data": {
      "text/plain": [
       "40"
      ]
     },
     "execution_count": 28,
     "metadata": {},
     "output_type": "execute_result"
    }
   ],
   "source": [
    "spam = 40\n",
    "spam"
   ]
  },
  {
   "cell_type": "code",
   "execution_count": null,
   "id": "dd8b318e",
   "metadata": {},
   "outputs": [],
   "source": [
    "eggs = 2"
   ]
  },
  {
   "cell_type": "code",
   "execution_count": 19,
   "id": "acfa9120",
   "metadata": {},
   "outputs": [
    {
     "data": {
      "text/plain": [
       "82"
      ]
     },
     "execution_count": 19,
     "metadata": {},
     "output_type": "execute_result"
    }
   ],
   "source": [
    "spam + eggs + spam"
   ]
  },
  {
   "cell_type": "code",
   "execution_count": 20,
   "id": "316f5864",
   "metadata": {},
   "outputs": [
    {
     "data": {
      "text/plain": [
       "'Hello'"
      ]
     },
     "execution_count": 20,
     "metadata": {},
     "output_type": "execute_result"
    }
   ],
   "source": [
    "spam = 'Hello'\n",
    "spam"
   ]
  },
  {
   "cell_type": "code",
   "execution_count": 21,
   "id": "d05d5d04",
   "metadata": {},
   "outputs": [
    {
     "data": {
      "text/plain": [
       "'hi'"
      ]
     },
     "execution_count": 21,
     "metadata": {},
     "output_type": "execute_result"
    }
   ],
   "source": [
    "spam = 'hi'\n",
    "spam"
   ]
  },
  {
   "cell_type": "markdown",
   "id": "d6a6627c",
   "metadata": {},
   "source": [
    "Variable Name은 PEP8에 의해 snake case (or snake notation)을 권장하나, 일관되게 사용하는 것이 보다 중요\n",
    "\n",
    "* [Naming Convention](https://ds31x.blogspot.com/2023/07/etc-naming-convention.html)\n",
    "* [Python Enhancement Proposal 8 (PEP 8): Style Guide for Python Code](https://ds31x.tistory.com/61)\n",
    "* [Naming Rule](https://dsaint31.tistory.com/517#2.%20Naming%20Rules%20(convention%EC%9D%B4%20%EC%95%84%EB%8B%98!)-1-2)\n",
    "\n",
    "[Variable 과 Object에 대한 참고자료](https://dsaint31.tistory.com/517)"
   ]
  },
  {
   "cell_type": "markdown",
   "id": "d0474e31",
   "metadata": {},
   "source": [
    "# 4 First Module"
   ]
  },
  {
   "cell_type": "code",
   "execution_count": 1,
   "id": "7dda1e72",
   "metadata": {},
   "outputs": [
    {
     "name": "stdout",
     "output_type": "stream",
     "text": [
      "Writing hello.py\n"
     ]
    }
   ],
   "source": [
    "%%writefile hello.py\n",
    "# This program says hello and asks for my name.\n",
    "\n",
    "print('Hello, world!')\n",
    "print('What is your name?')  # Ask for their name.\n",
    "my_name = input('>')\n",
    "print('It is good to meet you, ' + my_name)\n",
    "print('The length of your name is:')\n",
    "print(len(my_name))\n",
    "print('What is your age?')  # Ask for their age.\n",
    "my_age = input('>')\n",
    "print('You will be ' + str(int(my_age) + 1) + ' in a year.')"
   ]
  },
  {
   "cell_type": "markdown",
   "id": "9043d857",
   "metadata": {},
   "source": [
    "사용자 입력이 필요하므로, ``Ctrl + ` `` 으로 터미널에서 실행.\n",
    "\n",
    "```\n",
    "python hello.py\n",
    "```"
   ]
  },
  {
   "cell_type": "markdown",
   "id": "16d38fff",
   "metadata": {},
   "source": [
    "* `#` 다음의 문자열은 주석(comment)로 python interpreter는 무시.\n",
    "* [`print()` built-in function](https://ds31x.tistory.com/410)\n",
    "* [`input()` built-in function은 blocking mode로 동작](https://ds31x.tistory.com/128)\n",
    "* [`len()` built-in function: `Sized` 객체의 item의 수 반환](https://ds31x.tistory.com/241#3.-%EB%8C%80%ED%91%9C%EC%A0%81%EC%9D%B8-classes)\n",
    "* [`str()`, `float()`, `int()` 는 생성자!](https://dsaint31.tistory.com/515)\n",
    "* [`type()` built-in function: Object의 타입을 반환](https://ds31x.tistory.com/404)\n",
    "* `round()`, `abs()` : bulit-in function"
   ]
  },
  {
   "cell_type": "markdown",
   "id": "13866e24",
   "metadata": {},
   "source": [
    "# 참고: Debug 수행을 위한 예제.\n",
    "\n",
    "* `Run by Line` (F10) 을 이용한 디버깅.\n",
    "    * Cell의 오른쪽 상단에 위치.\n",
    "* VSCode의 디버깅 (`Debug Cell`)이용\n",
    "    * Cell의 실행 버튼.\n",
    "    * break point사용하기."
   ]
  },
  {
   "cell_type": "code",
   "execution_count": 3,
   "id": "5fb4ff41",
   "metadata": {},
   "outputs": [
    {
     "name": "stdout",
     "output_type": "stream",
     "text": [
      "a = 9\n",
      "a = 8\n",
      "a = 7\n",
      "a = 6\n",
      "a = 5\n",
      "a = 4\n",
      "a = 3\n",
      "a = 2\n",
      "a = 1\n",
      "a = 0\n"
     ]
    }
   ],
   "source": [
    "a = 10\n",
    "\n",
    "while a>0:\n",
    "    a = a-1\n",
    "    print(f\"{a = }\")\n",
    "\n"
   ]
  },
  {
   "cell_type": "code",
   "execution_count": 5,
   "id": "573158d5",
   "metadata": {},
   "outputs": [
    {
     "data": {
      "text/plain": [
       "<function matplotlib.pyplot.show(close=None, block=None)>"
      ]
     },
     "execution_count": 5,
     "metadata": {},
     "output_type": "execute_result"
    },
    {
     "data": {
      "image/png": "[encoded data removed]",
      "text/plain": [
       "<Figure size 640x480 with 1 Axes>"
      ]
     },
     "metadata": {},
     "output_type": "display_data"
    }
   ],
   "source": [
    "import numpy as np\n",
    "import pandas as pd\n",
    "import matplotlib.pyplot as plt\n",
    "\n",
    "x = [21,22,23,4,5,6,77,8,9,10,31,33,34,35,37,18,59,100]\n",
    "num_bins = 5\n",
    "\n",
    "plt.hist(\n",
    "    x,\n",
    "    num_bins,\n",
    ")\n",
    "plt.show"
   ]
  },
  {
   "cell_type": "code",
   "execution_count": 1,
   "id": "5d7aea0b",
   "metadata": {},
   "outputs": [
    {
     "data": {
      "text/html": [
       "<div>\n",
       "<style scoped>\n",
       "    .dataframe tbody tr th:only-of-type {\n",
       "        vertical-align: middle;\n",
       "    }\n",
       "\n",
       "    .dataframe tbody tr th {\n",
       "        vertical-align: top;\n",
       "    }\n",
       "\n",
       "    .dataframe thead th {\n",
       "        text-align: right;\n",
       "    }\n",
       "</style>\n",
       "<table border=\"1\" class=\"dataframe\">\n",
       "  <thead>\n",
       "    <tr style=\"text-align: right;\">\n",
       "      <th></th>\n",
       "      <th>Product_ID</th>\n",
       "      <th>Product_Name</th>\n",
       "      <th>Category</th>\n",
       "      <th>Price</th>\n",
       "      <th>Stock</th>\n",
       "    </tr>\n",
       "  </thead>\n",
       "  <tbody>\n",
       "    <tr>\n",
       "      <th>0</th>\n",
       "      <td>101</td>\n",
       "      <td>A</td>\n",
       "      <td>Electronics</td>\n",
       "      <td>299.99</td>\n",
       "      <td>50</td>\n",
       "    </tr>\n",
       "    <tr>\n",
       "      <th>1</th>\n",
       "      <td>102</td>\n",
       "      <td>B</td>\n",
       "      <td>Electronics</td>\n",
       "      <td>199.99</td>\n",
       "      <td>60</td>\n",
       "    </tr>\n",
       "    <tr>\n",
       "      <th>2</th>\n",
       "      <td>103</td>\n",
       "      <td>C</td>\n",
       "      <td>Furniture</td>\n",
       "      <td>399.99</td>\n",
       "      <td>30</td>\n",
       "    </tr>\n",
       "    <tr>\n",
       "      <th>3</th>\n",
       "      <td>104</td>\n",
       "      <td>D</td>\n",
       "      <td>Furniture</td>\n",
       "      <td>499.99</td>\n",
       "      <td>20</td>\n",
       "    </tr>\n",
       "    <tr>\n",
       "      <th>4</th>\n",
       "      <td>105</td>\n",
       "      <td>E</td>\n",
       "      <td>Clothing</td>\n",
       "      <td>59.99</td>\n",
       "      <td>100</td>\n",
       "    </tr>\n",
       "    <tr>\n",
       "      <th>5</th>\n",
       "      <td>106</td>\n",
       "      <td>F</td>\n",
       "      <td>Clothing</td>\n",
       "      <td>59.55</td>\n",
       "      <td>150</td>\n",
       "    </tr>\n",
       "    <tr>\n",
       "      <th>6</th>\n",
       "      <td>107</td>\n",
       "      <td>G</td>\n",
       "      <td>Food</td>\n",
       "      <td>9.99</td>\n",
       "      <td>200</td>\n",
       "    </tr>\n",
       "    <tr>\n",
       "      <th>7</th>\n",
       "      <td>108</td>\n",
       "      <td>H</td>\n",
       "      <td>Food</td>\n",
       "      <td>14.98</td>\n",
       "      <td>180</td>\n",
       "    </tr>\n",
       "    <tr>\n",
       "      <th>8</th>\n",
       "      <td>109</td>\n",
       "      <td>I</td>\n",
       "      <td>Toy</td>\n",
       "      <td>24.99</td>\n",
       "      <td>90</td>\n",
       "    </tr>\n",
       "    <tr>\n",
       "      <th>9</th>\n",
       "      <td>110</td>\n",
       "      <td>J</td>\n",
       "      <td>Toy</td>\n",
       "      <td>19.99</td>\n",
       "      <td>120</td>\n",
       "    </tr>\n",
       "  </tbody>\n",
       "</table>\n",
       "</div>"
      ],
      "text/plain": [
       "   Product_ID Product_Name     Category   Price  Stock\n",
       "0         101            A  Electronics  299.99     50\n",
       "1         102            B  Electronics  199.99     60\n",
       "2         103            C    Furniture  399.99     30\n",
       "3         104            D    Furniture  499.99     20\n",
       "4         105            E     Clothing   59.99    100\n",
       "5         106            F     Clothing   59.55    150\n",
       "6         107            G         Food    9.99    200\n",
       "7         108            H         Food   14.98    180\n",
       "8         109            I          Toy   24.99     90\n",
       "9         110            J          Toy   19.99    120"
      ]
     },
     "execution_count": 1,
     "metadata": {},
     "output_type": "execute_result"
    }
   ],
   "source": [
    "import pandas as pd\n",
    "\n",
    "data = {\n",
    "    \"Product_ID\" : range(101,111),\n",
    "    \"Product_Name\": ['A', 'B', 'C', 'D', 'E', 'F', 'G', 'H', 'I', 'J'],\n",
    "    \"Category\" : ['Electronics', 'Electronics', 'Furniture', 'Furniture', 'Clothing', 'Clothing', 'Food','Food','Toy','Toy'],\n",
    "    \"Price\" : [299.99, 199.99, 399.99, 499.99, 59.99, 59.55, 9.99, 14.98, 24.99, 19.99],\n",
    "    \"Stock\" : [50, 60, 30, 20, 100,150,200, 180, 90, 120],\n",
    "}\n",
    "df = pd.DataFrame(data)\n",
    "df"
   ]
  },
  {
   "cell_type": "markdown",
   "id": "0cae0d5a",
   "metadata": {},
   "source": [
    "# 참고: TeX 테스트\n",
    "\n",
    "PDF로 export 하기 위해 필요한 명령어의 동작을 확인함."
   ]
  },
  {
   "cell_type": "code",
   "execution_count": 29,
   "id": "957b62d3",
   "metadata": {},
   "outputs": [
    {
     "name": "stdout",
     "output_type": "stream",
     "text": [
      "pdfTeX 3.141592653-2.6-1.40.27 (TeX Live 2025)\n",
      "kpathsea version 6.4.1\n",
      "Copyright 2025 Han The Thanh (pdfTeX) et al.\n",
      "There is NO warranty.  Redistribution of this software is\n",
      "covered by the terms of both the pdfTeX copyright and\n",
      "the Lesser GNU General Public License.\n",
      "For more information about these matters, see the file\n",
      "named COPYING and the pdfTeX source.\n",
      "Primary author of pdfTeX: Han The Thanh (pdfTeX) et al.\n",
      "Compiled with libpng 1.6.46; using libpng 1.6.46\n",
      "Compiled with zlib 1.3.1; using zlib 1.3.1\n",
      "Compiled with xpdf version 4.04\n",
      "\n"
     ]
    }
   ],
   "source": [
    "# Jupyter cell에서 테스트\n",
    "import subprocess\n",
    "result = subprocess.run(['pdflatex', '--version'], capture_output=True, text=True)\n",
    "print(result.stdout)"
   ]
  },
  {
   "cell_type": "code",
   "execution_count": null,
   "id": "628b2535",
   "metadata": {},
   "outputs": [],
   "source": []
  }
 ],
 "metadata": {
  "kernelspec": {
   "display_name": "jupyternote",
   "language": "python",
   "name": "python3"
  },
  "language_info": {
   "codemirror_mode": {
    "name": "ipython",
    "version": 3
   },
   "file_extension": ".py",
   "mimetype": "text/x-python",
   "name": "python",
   "nbconvert_exporter": "python",
   "pygments_lexer": "ipython3",
   "version": "3.10.18"
  }
 },
 "nbformat": 4,
 "nbformat_minor": 5
}
