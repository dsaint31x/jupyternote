{
 "cells": [
  {
   "cell_type": "markdown",
   "id": "f6efda67",
   "metadata": {},
   "source": [
    "## `dict` 도 Python 3.7+부터는 순서를 유지\n",
    "\n",
    "\n",
    "참고: [collections.OrderedDict](https://ds31x.tistory.com/412)"
   ]
  },
  {
   "cell_type": "code",
   "execution_count": null,
   "id": "1ee43e7c",
   "metadata": {},
   "outputs": [],
   "source": [
    "d = {}\n",
    "d['a'] = 1\n",
    "d['b'] = 2\n",
    "d['c'] = 3\n",
    "\n",
    "d"
   ]
  },
  {
   "cell_type": "code",
   "execution_count": null,
   "id": "c6899e60",
   "metadata": {},
   "outputs": [],
   "source": [
    "for kv in d.items():\n",
    "    print(kv)"
   ]
  },
  {
   "cell_type": "code",
   "execution_count": null,
   "id": "f47167f3",
   "metadata": {},
   "outputs": [],
   "source": [
    "from collections import OrderedDict \n",
    "\n",
    "od = OrderedDict()\n",
    "od['a'] = 1\n",
    "od['b'] = 2\n",
    "od['c'] = 3\n",
    "od"
   ]
  },
  {
   "cell_type": "code",
   "execution_count": null,
   "id": "7456db65",
   "metadata": {},
   "outputs": [],
   "source": [
    "for kv in od.items():\n",
    "    print(kv)"
   ]
  },
  {
   "cell_type": "markdown",
   "id": "caff561f",
   "metadata": {},
   "source": [
    "## `OrderedDict`를 아직도 써야 하는 이유는?"
   ]
  },
  {
   "cell_type": "code",
   "execution_count": null,
   "id": "a8d6d163",
   "metadata": {},
   "outputs": [],
   "source": [
    "d1 = dict(a=1, b=2, c=3)\n",
    "d2 = dict(c=3, a=1, b=2)"
   ]
  },
  {
   "cell_type": "code",
   "execution_count": null,
   "id": "0789e038",
   "metadata": {},
   "outputs": [],
   "source": [
    "d1"
   ]
  },
  {
   "cell_type": "code",
   "execution_count": null,
   "id": "72d7c51a",
   "metadata": {},
   "outputs": [],
   "source": [
    "d2"
   ]
  },
  {
   "cell_type": "code",
   "execution_count": null,
   "id": "0cb56dde",
   "metadata": {},
   "outputs": [],
   "source": [
    "d1 == d2"
   ]
  },
  {
   "cell_type": "code",
   "execution_count": null,
   "id": "18578b3f",
   "metadata": {},
   "outputs": [],
   "source": [
    "from collections import OrderedDict\n",
    "\n",
    "od1 = OrderedDict(a=1, b=2, c=3)\n",
    "od2 = OrderedDict(c=3, a=1, b=2)"
   ]
  },
  {
   "cell_type": "code",
   "execution_count": null,
   "id": "cc4ca9b9",
   "metadata": {},
   "outputs": [],
   "source": [
    "od1"
   ]
  },
  {
   "cell_type": "code",
   "execution_count": null,
   "id": "2b2bd2c3",
   "metadata": {},
   "outputs": [],
   "source": [
    "od2"
   ]
  },
  {
   "cell_type": "code",
   "execution_count": null,
   "id": "870b89cf",
   "metadata": {},
   "outputs": [],
   "source": [
    "od1 == od2"
   ]
  },
  {
   "cell_type": "code",
   "execution_count": null,
   "id": "013d101b",
   "metadata": {},
   "outputs": [],
   "source": [
    "from collections import OrderedDict\n",
    "\n",
    "od = OrderedDict(a=1, b=2, c=3)\n",
    "\n",
    "for kv in od.items():\n",
    "    print(kv, end=' ')"
   ]
  },
  {
   "cell_type": "code",
   "execution_count": null,
   "id": "3605ac8a",
   "metadata": {},
   "outputs": [],
   "source": [
    "od.move_to_end('b')\n",
    "for kv in od.items():\n",
    "    print(kv, end=' ')"
   ]
  },
  {
   "cell_type": "code",
   "execution_count": null,
   "id": "08b85bb2",
   "metadata": {},
   "outputs": [],
   "source": [
    "od.move_to_end('b', last=False) # last=False면 맨앞으로 이동.\n",
    "\n",
    "for kv in od.items():\n",
    "    print(kv, end=' ')"
   ]
  },
  {
   "cell_type": "code",
   "execution_count": null,
   "id": "71f0d561",
   "metadata": {},
   "outputs": [],
   "source": []
  }
 ],
 "metadata": {
  "kernelspec": {
   "display_name": "jupyternote",
   "language": "python",
   "name": "python3"
  },
  "language_info": {
   "codemirror_mode": {
    "name": "ipython",
    "version": 3
   },
   "file_extension": ".py",
   "mimetype": "text/x-python",
   "name": "python",
   "nbconvert_exporter": "python",
   "pygments_lexer": "ipython3",
   "version": "3.10.18"
  }
 },
 "nbformat": 4,
 "nbformat_minor": 5
}
