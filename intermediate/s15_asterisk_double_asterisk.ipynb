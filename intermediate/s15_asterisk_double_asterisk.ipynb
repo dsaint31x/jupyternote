{
 "cells": [
  {
   "cell_type": "markdown",
   "id": "0d424802",
   "metadata": {},
   "source": [
    "## iterable 객체와 parameter\n",
    "\n",
    "* 참고자료: [asterisk `*` 사용하기](https://ds31x.tistory.com/57)\n",
    "* 참고자료: [double asterisk 사용법-packing and unpacking](https://ds31x.tistory.com/482)"
   ]
  },
  {
   "cell_type": "code",
   "execution_count": null,
   "id": "95b60bc8",
   "metadata": {},
   "outputs": [],
   "source": [
    "def who(a, b, c):\n",
    "    print(a, b, c, sep=\", \")\n",
    "\n",
    "who"
   ]
  },
  {
   "cell_type": "code",
   "execution_count": null,
   "id": "be76e9fb",
   "metadata": {},
   "outputs": [],
   "source": [
    "who( *[1,2,3] )"
   ]
  },
  {
   "cell_type": "code",
   "execution_count": null,
   "id": "6c0a4d70",
   "metadata": {},
   "outputs": [],
   "source": [
    "who( *(1,2,3) )"
   ]
  },
  {
   "cell_type": "code",
   "execution_count": null,
   "id": "013e936c",
   "metadata": {},
   "outputs": [],
   "source": [
    "who( *\"abc\")"
   ]
  },
  {
   "cell_type": "code",
   "execution_count": null,
   "id": "386f55e7",
   "metadata": {},
   "outputs": [],
   "source": [
    "d = {\"a\":1, \"b\":2, \"c\":3}\n",
    "who(*d)"
   ]
  },
  {
   "cell_type": "code",
   "execution_count": null,
   "id": "abc2fa25",
   "metadata": {},
   "outputs": [],
   "source": [
    "who(**d)"
   ]
  },
  {
   "cell_type": "code",
   "execution_count": null,
   "id": "e2092057",
   "metadata": {},
   "outputs": [],
   "source": [
    "who( * (d.items()) )"
   ]
  },
  {
   "cell_type": "markdown",
   "id": "c17375cb",
   "metadata": {},
   "source": [
    "## `dict` 객체 와 parameter"
   ]
  },
  {
   "cell_type": "code",
   "execution_count": null,
   "id": "9ed8cbc6",
   "metadata": {},
   "outputs": [],
   "source": [
    "def func(*args):\n",
    "    print(args) # arg is tuple"
   ]
  },
  {
   "cell_type": "code",
   "execution_count": null,
   "id": "d466d081",
   "metadata": {},
   "outputs": [],
   "source": [
    "func()"
   ]
  },
  {
   "cell_type": "code",
   "execution_count": null,
   "id": "fd20ac8d",
   "metadata": {},
   "outputs": [],
   "source": [
    "func(1)"
   ]
  },
  {
   "cell_type": "code",
   "execution_count": null,
   "id": "09530d3a",
   "metadata": {},
   "outputs": [],
   "source": [
    "func(1,2)"
   ]
  },
  {
   "cell_type": "code",
   "execution_count": null,
   "id": "73c1568a",
   "metadata": {},
   "outputs": [],
   "source": [
    "func(1,2,3)"
   ]
  },
  {
   "cell_type": "code",
   "execution_count": null,
   "id": "861ba30a",
   "metadata": {},
   "outputs": [],
   "source": [
    "def func(**kwargs):\n",
    "    print(kwargs) # dict\n"
   ]
  },
  {
   "cell_type": "code",
   "execution_count": null,
   "id": "76abf412",
   "metadata": {},
   "outputs": [],
   "source": [
    "func(a=1)"
   ]
  },
  {
   "cell_type": "code",
   "execution_count": null,
   "id": "e5ad67cb",
   "metadata": {},
   "outputs": [],
   "source": [
    "func(a=1, b=2, c=3)"
   ]
  },
  {
   "cell_type": "code",
   "execution_count": null,
   "id": "9a249c49",
   "metadata": {},
   "outputs": [],
   "source": [
    "d = {\"a\":1, \"b\":2, \"c\":3}\n",
    "\n",
    "func(**d)"
   ]
  },
  {
   "cell_type": "code",
   "execution_count": null,
   "id": "ea0a34d8",
   "metadata": {},
   "outputs": [],
   "source": [
    "def func (*args, **kwargs):\n",
    "    print(args)\n",
    "    print(kwargs)"
   ]
  },
  {
   "cell_type": "code",
   "execution_count": null,
   "id": "300ace34",
   "metadata": {},
   "outputs": [],
   "source": [
    "func()"
   ]
  },
  {
   "cell_type": "code",
   "execution_count": null,
   "id": "f1524950",
   "metadata": {},
   "outputs": [],
   "source": [
    "func(1,2)"
   ]
  },
  {
   "cell_type": "code",
   "execution_count": null,
   "id": "96283ab4",
   "metadata": {},
   "outputs": [],
   "source": [
    "func(1, a= 1)"
   ]
  },
  {
   "cell_type": "code",
   "execution_count": null,
   "id": "6574b1ab",
   "metadata": {},
   "outputs": [],
   "source": [
    "func(1,2,a=1, b=1)"
   ]
  }
 ],
 "metadata": {
  "kernelspec": {
   "display_name": "jupyternote",
   "language": "python",
   "name": "python3"
  },
  "language_info": {
   "codemirror_mode": {
    "name": "ipython",
    "version": 3
   },
   "file_extension": ".py",
   "mimetype": "text/x-python",
   "name": "python",
   "nbconvert_exporter": "python",
   "pygments_lexer": "ipython3",
   "version": "3.10.18"
  }
 },
 "nbformat": 4,
 "nbformat_minor": 5
}
