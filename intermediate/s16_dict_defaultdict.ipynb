{
 "cells": [
  {
   "cell_type": "markdown",
   "id": "804a93e1",
   "metadata": {},
   "source": [
    "## `dict` 에서 item 참조 및 추가.\n",
    "\n",
    "\n",
    "[참고](https://ds31x.tistory.com/30#%EA%B0%92-%EC%96%BB%EC%96%B4%EC%98%A4%EA%B8%B0)"
   ]
  },
  {
   "cell_type": "code",
   "execution_count": null,
   "id": "2dd0519b",
   "metadata": {},
   "outputs": [],
   "source": [
    "d = {'red': 3, 'white': 2, 'blue': 4}\n",
    "d['red'] = 1\n",
    "d "
   ]
  },
  {
   "cell_type": "code",
   "execution_count": null,
   "id": "632e1255",
   "metadata": {},
   "outputs": [],
   "source": [
    "d = {'white': 2, 'blue': 4}\n",
    "d['red'] = 1\n",
    "d"
   ]
  },
  {
   "cell_type": "code",
   "execution_count": null,
   "id": "2df904d6",
   "metadata": {},
   "outputs": [],
   "source": [
    "d = {'red':3, 'white': 2, 'blue': 4}\n",
    "d['red'] += 1\n",
    "d"
   ]
  },
  {
   "cell_type": "code",
   "execution_count": null,
   "id": "456a9b7e",
   "metadata": {},
   "outputs": [],
   "source": [
    "d = {'white': 2, 'blue': 4}\n",
    "d['red']+=1"
   ]
  },
  {
   "cell_type": "code",
   "execution_count": null,
   "id": "85745196",
   "metadata": {},
   "outputs": [],
   "source": [
    "s = 'robot'\n",
    "d = {}\n",
    "for k in s:\n",
    "    if k in d: #키가 존재하면,\n",
    "        d[k] += 1\n",
    "    else: #키가 존재하지 않으면,\n",
    "        d[k] = 1\n",
    "\n",
    "d"
   ]
  },
  {
   "cell_type": "markdown",
   "id": "2da7f062",
   "metadata": {},
   "source": [
    "## `.setdefault()` 메서드\n",
    "\n",
    "참고자료: [`.setdefault()`](https://ds31x.tistory.com/30#%EC%B6%94%EA%B0%80%ED%95%98%EB%A9%B4%EC%84%9C-%EA%B0%92-%EC%96%BB%EC%96%B4%EC%98%A4%EA%B8%B0)"
   ]
  },
  {
   "cell_type": "code",
   "execution_count": null,
   "id": "956ad522",
   "metadata": {},
   "outputs": [],
   "source": [
    "s = 'robot'\n",
    "d = {}\n",
    "for k in s:\n",
    "    d[k] = d.setdefault(k,0) + 1\n",
    "\n",
    "d"
   ]
  },
  {
   "cell_type": "code",
   "execution_count": null,
   "id": "e153a01e",
   "metadata": {},
   "outputs": [],
   "source": [
    "tmp = {\"a\":0, \"b\":1, \"c\":2}\n",
    "\n",
    "print(f\"{tmp.setdefault('x') = }\") # 기본값을 인자로 넘기지 않은 상태에서 key가 없으면 None 반환하고 추가.\n",
    "tmp"
   ]
  },
  {
   "cell_type": "code",
   "execution_count": null,
   "id": "19a1c9bf",
   "metadata": {},
   "outputs": [],
   "source": [
    "print(f'{tmp.setdefault(\"y\", 777) = }')\n",
    "tmp"
   ]
  },
  {
   "cell_type": "code",
   "execution_count": null,
   "id": "7ef9cfbc",
   "metadata": {},
   "outputs": [],
   "source": [
    "print(f'{tmp.setdefault(\"a\", 777) = }')\n",
    "tmp"
   ]
  },
  {
   "cell_type": "markdown",
   "id": "a8a4ba50",
   "metadata": {},
   "source": [
    "## defaultdict\n",
    "\n",
    "참고자료: [collections.defaultdict](https://ds31x.tistory.com/411#2.-defaultdict)"
   ]
  },
  {
   "cell_type": "code",
   "execution_count": null,
   "id": "2f2c4a35",
   "metadata": {},
   "outputs": [],
   "source": [
    "from collections import defaultdict\n",
    "\n",
    "d = defaultdict(float)\n",
    "\n",
    "d[\"a\"] += 100\n",
    "d"
   ]
  },
  {
   "cell_type": "code",
   "execution_count": null,
   "id": "cd9bb48e",
   "metadata": {},
   "outputs": [],
   "source": [
    "d = defaultdict(lambda: 10.)\n",
    "\n",
    "d[\"a\"]"
   ]
  },
  {
   "cell_type": "code",
   "execution_count": null,
   "id": "c5b1840c",
   "metadata": {},
   "outputs": [],
   "source": [
    "from collections import defaultdict\n",
    "\n",
    "s = \"robot\"\n",
    "\n",
    "d = defaultdict(int)\n",
    "\n",
    "for k in s:\n",
    "    d[k] += 1\n",
    "\n",
    "d"
   ]
  },
  {
   "cell_type": "code",
   "execution_count": null,
   "id": "fa0dfee3",
   "metadata": {},
   "outputs": [],
   "source": [
    "n1 = int('26')\n",
    "n1"
   ]
  },
  {
   "cell_type": "code",
   "execution_count": null,
   "id": "cd566614",
   "metadata": {},
   "outputs": [],
   "source": [
    "n2 = int()\n",
    "n2"
   ]
  },
  {
   "cell_type": "code",
   "execution_count": null,
   "id": "0837874d",
   "metadata": {},
   "outputs": [],
   "source": [
    "def ret_zero():\n",
    "    return 0\n",
    "\n",
    "d = defaultdict(ret_zero)\n",
    "\n",
    "d['a']"
   ]
  },
  {
   "cell_type": "code",
   "execution_count": null,
   "id": "572e43df",
   "metadata": {},
   "outputs": [],
   "source": [
    "d"
   ]
  },
  {
   "cell_type": "code",
   "execution_count": null,
   "id": "9b280ab1",
   "metadata": {},
   "outputs": [],
   "source": [
    "d = defaultdict(lambda: 100)\n",
    "d['a']"
   ]
  },
  {
   "cell_type": "code",
   "execution_count": null,
   "id": "8eb29174",
   "metadata": {},
   "outputs": [],
   "source": [
    "d"
   ]
  }
 ],
 "metadata": {
  "kernelspec": {
   "display_name": "jupyternote",
   "language": "python",
   "name": "python3"
  },
  "language_info": {
   "codemirror_mode": {
    "name": "ipython",
    "version": 3
   },
   "file_extension": ".py",
   "mimetype": "text/x-python",
   "name": "python",
   "nbconvert_exporter": "python",
   "pygments_lexer": "ipython3",
   "version": "3.10.18"
  }
 },
 "nbformat": 4,
 "nbformat_minor": 5
}
