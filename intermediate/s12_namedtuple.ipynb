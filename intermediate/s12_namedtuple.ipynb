{
 "cells": [
  {
   "cell_type": "markdown",
   "id": "98fa8c1e",
   "metadata": {},
   "source": [
    "# `namedtuple` 의 이해와 작성\n",
    "\n"
   ]
  },
  {
   "cell_type": "markdown",
   "id": "4ddea350",
   "metadata": {},
   "source": [
    "## `tuple` Review"
   ]
  },
  {
   "cell_type": "code",
   "execution_count": 1,
   "id": "04443800",
   "metadata": {},
   "outputs": [
    {
     "data": {
      "text/plain": [
       "(12, 15)"
      ]
     },
     "execution_count": 1,
     "metadata": {},
     "output_type": "execute_result"
    }
   ],
   "source": [
    "tri_one = (12, 15)\n",
    "tri_one"
   ]
  },
  {
   "cell_type": "markdown",
   "id": "0a7213bb",
   "metadata": {},
   "source": [
    "## `namedtuple`의 장점\n",
    "\n",
    "주석 없이도 가지고 있는 item이 무얼 의미하는지를 객체가 자체적으로 제공 가능.\n",
    "\n",
    "attribute처럼 사용가능함."
   ]
  },
  {
   "cell_type": "code",
   "execution_count": null,
   "id": "a7acb9fd",
   "metadata": {},
   "outputs": [
    {
     "data": {
      "text/plain": [
       "Triangle(bottom=3, height=7)"
      ]
     },
     "execution_count": 2,
     "metadata": {},
     "output_type": "execute_result"
    }
   ],
   "source": [
    "from collections import namedtuple \n",
    "Tri = namedtuple(\"Triangle\", [\"bottom\", \"height\"]) # class factorization\n",
    "tri_two = Tri(3,7)\n",
    "tri_two"
   ]
  },
  {
   "cell_type": "code",
   "execution_count": 3,
   "id": "6499e6fd",
   "metadata": {},
   "outputs": [
    {
     "name": "stdout",
     "output_type": "stream",
     "text": [
      "tri_two[0] = 3, tri_two[1] = 7\n"
     ]
    }
   ],
   "source": [
    "print(f\"{tri_two[0] = }, {tri_two[1] = }\")"
   ]
  },
  {
   "cell_type": "code",
   "execution_count": 4,
   "id": "6221df97",
   "metadata": {},
   "outputs": [
    {
     "name": "stdout",
     "output_type": "stream",
     "text": [
      "tri_two.bottom = 3, tri_two.height = 7\n"
     ]
    }
   ],
   "source": [
    "print(f\"{tri_two.bottom = }, {tri_two.height = }\")"
   ]
  },
  {
   "cell_type": "markdown",
   "id": "5c974a42",
   "metadata": {},
   "source": [
    "## `type` 형인 `namedtuple` 의 리턴 value\n",
    "\n",
    "Python 에서는 class 도 object 임!!\n",
    "\n",
    "Python 에서는 function도 class도 모조리 object 임"
   ]
  },
  {
   "cell_type": "code",
   "execution_count": null,
   "id": "6836684a",
   "metadata": {},
   "outputs": [
    {
     "name": "stdout",
     "output_type": "stream",
     "text": [
      "type(Tri) = <class 'type'>\n",
      "Tri = <class '__main__.Triangle'>\n"
     ]
    }
   ],
   "source": [
    "print(f\"{type(Tri) = }\") # Tri 는 타입을 지정하는 `type` 객체\n",
    "print(f\"{Tri = }\")       # __main__ 모듈의 attribute인 `Tri`"
   ]
  },
  {
   "cell_type": "code",
   "execution_count": 7,
   "id": "47778a92",
   "metadata": {},
   "outputs": [
    {
     "data": {
      "text/plain": [
       "__main__.Triangle"
      ]
     },
     "execution_count": 7,
     "metadata": {},
     "output_type": "execute_result"
    }
   ],
   "source": [
    "Tri"
   ]
  },
  {
   "cell_type": "markdown",
   "id": "02a05fe4",
   "metadata": {},
   "source": [
    "## `namedtuple`도 `tuple`처럼 immutable"
   ]
  },
  {
   "cell_type": "code",
   "execution_count": null,
   "id": "7dfa448d",
   "metadata": {},
   "outputs": [
    {
     "ename": "TypeError",
     "evalue": "'Triangle' object does not support item assignment",
     "output_type": "error",
     "traceback": [
      "\u001b[0;31m---------------------------------------------------------------------------\u001b[0m",
      "\u001b[0;31mTypeError\u001b[0m                                 Traceback (most recent call last)",
      "Cell \u001b[0;32mIn[10], line 1\u001b[0m\n\u001b[0;32m----> 1\u001b[0m \u001b[43mtri_two\u001b[49m\u001b[43m[\u001b[49m\u001b[38;5;241;43m0\u001b[39;49m\u001b[43m]\u001b[49m \u001b[38;5;241m=\u001b[39m \u001b[38;5;241m777\u001b[39m\n",
      "\u001b[0;31mTypeError\u001b[0m: 'Triangle' object does not support item assignment"
     ]
    }
   ],
   "source": [
    "tri_two[0] = 777 # TypeError 메시지에서 namedtuple 의 첫번재 인자 문자열을 확인 가능: Triangle"
   ]
  },
  {
   "cell_type": "code",
   "execution_count": null,
   "id": "be5cbe4b",
   "metadata": {},
   "outputs": [],
   "source": [
    "Tri = namedtuple(\"Tri\", [\"bottom\", \"height\"]) # 첫번째 인자와 return value를 받는 변수 이름을 일치시키는 경우가 많음."
   ]
  },
  {
   "cell_type": "markdown",
   "id": "1f3f9e94",
   "metadata": {},
   "source": [
    "## Unpacking 도 `tuple`과 유사."
   ]
  },
  {
   "cell_type": "code",
   "execution_count": 12,
   "id": "642e4e74",
   "metadata": {},
   "outputs": [
    {
     "name": "stdout",
     "output_type": "stream",
     "text": [
      "12 79\n"
     ]
    }
   ],
   "source": [
    "tri_three = Tri(12, 79)\n",
    "\n",
    "a, b = tri_three #unpacking\n",
    "print(a,b)"
   ]
  },
  {
   "cell_type": "code",
   "execution_count": 15,
   "id": "1b447be8",
   "metadata": {},
   "outputs": [
    {
     "name": "stdout",
     "output_type": "stream",
     "text": [
      "arg1 = 3, arg2 = 8\n"
     ]
    }
   ],
   "source": [
    "def show (arg1, arg2):\n",
    "    print(f\"{arg1 = }, {arg2 = }\")\n",
    "\n",
    "t = Tri(3, 8)\n",
    "\n",
    "show(*t) # unpacking"
   ]
  },
  {
   "cell_type": "markdown",
   "id": "4e93c85b",
   "metadata": {},
   "source": [
    "## `rename` parameter\n",
    "\n",
    "Python 의 식별자 규칙에 맞지않는 필드 이름이나 예약어들을 바꿔주기 위한 parameter"
   ]
  },
  {
   "cell_type": "code",
   "execution_count": 17,
   "id": "1a1d50eb",
   "metadata": {},
   "outputs": [
    {
     "ename": "ValueError",
     "evalue": "Type names and field names cannot be a keyword: 'class'",
     "output_type": "error",
     "traceback": [
      "\u001b[0;31m---------------------------------------------------------------------------\u001b[0m",
      "\u001b[0;31mValueError\u001b[0m                                Traceback (most recent call last)",
      "Cell \u001b[0;32mIn[17], line 3\u001b[0m\n\u001b[1;32m      1\u001b[0m \u001b[38;5;66;03m# Python 예약어와 유효하지 않은 식별자가 있는 경우\u001b[39;00m\n\u001b[1;32m      2\u001b[0m \u001b[38;5;66;03m# class, def, 1stField 등은 유효한 식별자가 아님.\u001b[39;00m\n\u001b[0;32m----> 3\u001b[0m Fields \u001b[38;5;241m=\u001b[39m \u001b[43mnamedtuple\u001b[49m\u001b[43m(\u001b[49m\u001b[38;5;124;43m'\u001b[39;49m\u001b[38;5;124;43mFields\u001b[39;49m\u001b[38;5;124;43m'\u001b[39;49m\u001b[43m,\u001b[49m\u001b[43m \u001b[49m\u001b[43m[\u001b[49m\u001b[38;5;124;43m'\u001b[39;49m\u001b[38;5;124;43mclass\u001b[39;49m\u001b[38;5;124;43m'\u001b[39;49m\u001b[43m,\u001b[49m\u001b[43m \u001b[49m\u001b[38;5;124;43m'\u001b[39;49m\u001b[38;5;124;43mdef\u001b[39;49m\u001b[38;5;124;43m'\u001b[39;49m\u001b[43m,\u001b[49m\u001b[43m \u001b[49m\u001b[38;5;124;43m'\u001b[39;49m\u001b[38;5;124;43m1stField\u001b[39;49m\u001b[38;5;124;43m'\u001b[39;49m\u001b[43m]\u001b[49m\u001b[43m)\u001b[49m \u001b[38;5;66;03m# ValueError 발생.\u001b[39;00m\n",
      "File \u001b[0;32m~/miniconda3/envs/jupyternote/lib/python3.10/collections/__init__.py:376\u001b[0m, in \u001b[0;36mnamedtuple\u001b[0;34m(typename, field_names, rename, defaults, module)\u001b[0m\n\u001b[1;32m    373\u001b[0m         \u001b[38;5;28;01mraise\u001b[39;00m \u001b[38;5;167;01mValueError\u001b[39;00m(\u001b[38;5;124m'\u001b[39m\u001b[38;5;124mType names and field names must be valid \u001b[39m\u001b[38;5;124m'\u001b[39m\n\u001b[1;32m    374\u001b[0m                          \u001b[38;5;124mf\u001b[39m\u001b[38;5;124m'\u001b[39m\u001b[38;5;124midentifiers: \u001b[39m\u001b[38;5;132;01m{\u001b[39;00mname\u001b[38;5;132;01m!r}\u001b[39;00m\u001b[38;5;124m'\u001b[39m)\n\u001b[1;32m    375\u001b[0m     \u001b[38;5;28;01mif\u001b[39;00m _iskeyword(name):\n\u001b[0;32m--> 376\u001b[0m         \u001b[38;5;28;01mraise\u001b[39;00m \u001b[38;5;167;01mValueError\u001b[39;00m(\u001b[38;5;124m'\u001b[39m\u001b[38;5;124mType names and field names cannot be a \u001b[39m\u001b[38;5;124m'\u001b[39m\n\u001b[1;32m    377\u001b[0m                          \u001b[38;5;124mf\u001b[39m\u001b[38;5;124m'\u001b[39m\u001b[38;5;124mkeyword: \u001b[39m\u001b[38;5;132;01m{\u001b[39;00mname\u001b[38;5;132;01m!r}\u001b[39;00m\u001b[38;5;124m'\u001b[39m)\n\u001b[1;32m    379\u001b[0m seen \u001b[38;5;241m=\u001b[39m \u001b[38;5;28mset\u001b[39m()\n\u001b[1;32m    380\u001b[0m \u001b[38;5;28;01mfor\u001b[39;00m name \u001b[38;5;129;01min\u001b[39;00m field_names:\n",
      "\u001b[0;31mValueError\u001b[0m: Type names and field names cannot be a keyword: 'class'"
     ]
    }
   ],
   "source": [
    "# Python 예약어와 유효하지 않은 식별자가 있는 경우\n",
    "# class, def, 1stField 등은 유효한 식별자가 아님.\n",
    "Fields = namedtuple('Fields', ['class', 'def', '1stField']) # ValueError 발생."
   ]
  },
  {
   "cell_type": "code",
   "execution_count": 18,
   "id": "ffeb27ad",
   "metadata": {},
   "outputs": [
    {
     "data": {
      "text/plain": [
       "Fields(_0='Math', _1='function', _2='first')"
      ]
     },
     "execution_count": 18,
     "metadata": {},
     "output_type": "execute_result"
    }
   ],
   "source": [
    "Fields = namedtuple('Fields', ['class', 'def', '1stField'],\n",
    "                    rename = True,\n",
    "                    )\n",
    "f = Fields(\"Math\", \"function\", \"first\")\n",
    "f"
   ]
  },
  {
   "cell_type": "markdown",
   "id": "6a3f1c5b",
   "metadata": {},
   "source": [
    "## `defaults` parameter\n",
    "\n",
    "Python 3.7+ 부터 지원.\n",
    "\n",
    "기본값을 지정할 수 있으며 `._field_defaults`  속성을 통해 확인 가능."
   ]
  },
  {
   "cell_type": "code",
   "execution_count": 20,
   "id": "d2b08a55",
   "metadata": {},
   "outputs": [
    {
     "name": "stdout",
     "output_type": "stream",
     "text": [
      "Employee(name='John', id=1001, dept=0, salary='N/A')\n",
      "Employee(name='Jane', id=1002, dept='HR', salary=50000)\n",
      "{'dept': 0, 'salary': 'N/A'}\n"
     ]
    }
   ],
   "source": [
    "# 기본값 설정\n",
    "Employee = namedtuple('Employee', ['name', 'id', 'dept', 'salary'], defaults=[0, 'N/A'])\n",
    "# 마지막 두 필드 기본값 적용: dept=0, salary='N/A'\n",
    "\n",
    "# 기본값 있는 필드 생략 가능\n",
    "emp1 = Employee('John', 1001)  # dept와 salary는 기본값 사용\n",
    "print(emp1)  # Employee(name='John', id=1001, dept=0, salary='N/A')\n",
    "\n",
    "# 모든 값 명시적 제공 가능\n",
    "emp2 = Employee('Jane', 1002, 'HR', 50000)\n",
    "print(emp2)  # Employee(name='Jane', id=1002, dept='HR', salary=50000)\n",
    "\n",
    "# 클래스 기본값 정보 확인\n",
    "print(Employee._field_defaults)  # {'dept': 0, 'salary': 'N/A'}"
   ]
  },
  {
   "cell_type": "markdown",
   "id": "506339f8",
   "metadata": {},
   "source": [
    "## Methods"
   ]
  },
  {
   "cell_type": "code",
   "execution_count": 21,
   "id": "52f0cfd6",
   "metadata": {},
   "outputs": [],
   "source": [
    "Point = namedtuple('Point', 'x y z')\n",
    "p = Point(1, 2, 3)"
   ]
  },
  {
   "cell_type": "code",
   "execution_count": 22,
   "id": "b1359636",
   "metadata": {},
   "outputs": [
    {
     "name": "stdout",
     "output_type": "stream",
     "text": [
      "Point(x=4, y=5, z=6)\n"
     ]
    }
   ],
   "source": [
    "# 1. _make(): 반복 가능 객체로부터 새 인스턴스 생성\n",
    "data = [4, 5, 6]\n",
    "p2 = Point._make(data)\n",
    "print(p2)  # Point(x=4, y=5, z=6)"
   ]
  },
  {
   "cell_type": "code",
   "execution_count": 23,
   "id": "1099e1d9",
   "metadata": {},
   "outputs": [
    {
     "name": "stdout",
     "output_type": "stream",
     "text": [
      "{'x': 1, 'y': 2, 'z': 3}\n"
     ]
    }
   ],
   "source": [
    "# 2. _asdict(): OrderedDict로 변환 (Python 3.1+)\n",
    "p_dict = p._asdict()\n",
    "print(p_dict)  # OrderedDict([('x', 1), ('y', 2), ('z', 3)])"
   ]
  },
  {
   "cell_type": "code",
   "execution_count": 24,
   "id": "19f7ff0c",
   "metadata": {},
   "outputs": [
    {
     "name": "stdout",
     "output_type": "stream",
     "text": [
      "Point(x=1, y=2, z=3)\n",
      "Point(x=1, y=20, z=30)\n"
     ]
    }
   ],
   "source": [
    "# 3. _replace(): 필드 값 변경한 새 인스턴스 생성\n",
    "p3 = p._replace(y=20, z=30)\n",
    "print(p)   # Point(x=1, y=2, z=3) - 원본은 변경되지 않음\n",
    "print(p3)  # Point(x=1, y=20, z=30)"
   ]
  },
  {
   "cell_type": "code",
   "execution_count": 25,
   "id": "2e61ee6c",
   "metadata": {},
   "outputs": [
    {
     "name": "stdout",
     "output_type": "stream",
     "text": [
      "('x', 'y', 'z')\n"
     ]
    }
   ],
   "source": [
    "# 4. _fields: 필드 이름 튜플\n",
    "print(p._fields)  # ('x', 'y', 'z')"
   ]
  },
  {
   "cell_type": "markdown",
   "id": "5189dcef",
   "metadata": {},
   "source": [
    "## `namedtuple`로 생성된 `type`객체는 class 처럼 inheritance 가 가능함!\n",
    "\n",
    "special method (dunder method)에 대한 overriding이 가능함. \n"
   ]
  },
  {
   "cell_type": "code",
   "execution_count": 27,
   "id": "c38af0e4",
   "metadata": {},
   "outputs": [
    {
     "name": "stdout",
     "output_type": "stream",
     "text": [
      "7.0710678118654755\n",
      "Point(3, 4, 5) - 원점과의 거리: {self.distance_from_origin():.2f}\n"
     ]
    }
   ],
   "source": [
    "class PointWithMethods(namedtuple('Point', 'x y z')):\n",
    "    # 새 메서드 추가 방법\n",
    "    def distance_from_origin(self):\n",
    "        return (self.x ** 2 + self.y ** 2 + self.z ** 2) ** 0.5\n",
    "\n",
    "    # 특수 메서드 재정의 예시\n",
    "    def __str__(self):\n",
    "        return f\"Point({self.x}, {self.y}, {self.z}) \" + \\\n",
    "                \"- 원점과의 거리: {self.distance_from_origin():.2f}\"\n",
    "\n",
    "p = PointWithMethods(3, 4, 5)\n",
    "\n",
    "print(p.distance_from_origin())  # 7.0710678118654755\n",
    "print(p)  # Point(3, 4, 5) - 원점과의 거리: 7.07"
   ]
  },
  {
   "cell_type": "markdown",
   "id": "7cf294c5",
   "metadata": {},
   "source": [
    "## 응용: csv 데이터처리"
   ]
  },
  {
   "cell_type": "code",
   "execution_count": 35,
   "id": "67b9de4f",
   "metadata": {},
   "outputs": [],
   "source": [
    "import csv\n",
    "from collections import namedtuple\n",
    "\n",
    "def read_csv_as_namedtuples(file_path):\n",
    "    with open(file_path, \"r\") as f:\n",
    "        reader = csv.reader(f)\n",
    "        header = next(reader)\n",
    "        header = map(str.strip, header)\n",
    "        Row = namedtuple(\"Row\", header)\n",
    "        return [Row(*row) for row in reader]\n"
   ]
  },
  {
   "cell_type": "code",
   "execution_count": 36,
   "id": "6fe4095a",
   "metadata": {},
   "outputs": [
    {
     "data": {
      "text/plain": [
       "'sds'"
      ]
     },
     "execution_count": 36,
     "metadata": {},
     "output_type": "execute_result"
    }
   ],
   "source": [
    "str.strip(\"   sds \")"
   ]
  },
  {
   "cell_type": "code",
   "execution_count": 53,
   "id": "ae93016f",
   "metadata": {},
   "outputs": [],
   "source": [
    "if \"__vsc_ipynb_file__\" not in globals(): \n",
    "    !pip install ipynbname"
   ]
  },
  {
   "cell_type": "code",
   "execution_count": 39,
   "id": "3e711d0c",
   "metadata": {},
   "outputs": [
    {
     "name": "stdout",
     "output_type": "stream",
     "text": [
      "Jupyter NoteBook 환경이 아님.\n",
      "vscode에서 ipynb파일 수행중.\n",
      "김행근's age is  45.\n",
      "김성근's age is  60.\n",
      "박순이's age is  20.\n"
     ]
    }
   ],
   "source": [
    "import ipynbname\n",
    "import os\n",
    "\n",
    "\n",
    "notebook_path = None\n",
    "try:\n",
    "    notebook_path = ipynbname.path()\n",
    "except FileNotFoundError:\n",
    "    print(\"Jupyter NoteBook 환경이 아님.\")\n",
    "    try:\n",
    "        notebook_path = __vsc_ipynb_file__\n",
    "    except NameError:\n",
    "        print(\"vscode에서 ipynb를 수행하고 있지 않음\")\n",
    "    else:\n",
    "        print(\"vscode에서 ipynb파일 수행중.\")\n",
    "        \n",
    "if notebook_path:\n",
    "    d = os.path.dirname(notebook_path)\n",
    "    fstr = os.path.join(d,\"data\",\"test.csv\")    \n",
    "\n",
    "    users = read_csv_as_namedtuples(fstr)\n",
    "    for user in users:\n",
    "        print(f\"{user.name}'s age is {user.age}.\")\n"
   ]
  },
  {
   "cell_type": "markdown",
   "id": "036b8f53",
   "metadata": {},
   "source": [
    "## Custom Class와의 차이점: `__eq__`메서드\n"
   ]
  },
  {
   "cell_type": "code",
   "execution_count": 40,
   "id": "f2d69a91",
   "metadata": {},
   "outputs": [],
   "source": [
    "# 일반 클래스\n",
    "class PersonClass:\n",
    "    def __init__(self, name, age, job):\n",
    "        self.name = name\n",
    "        self.age = age\n",
    "        self.job = job\n",
    "\n",
    "# namedtuple\n",
    "Person = namedtuple('Person', 'name age job')\n",
    "\n",
    "# 인스턴스 생성\n",
    "person_class = PersonClass('John Doe', 30, 'Developer')\n",
    "person_named = Person('John Doe', 30, 'Developer')"
   ]
  },
  {
   "cell_type": "code",
   "execution_count": 41,
   "id": "cbd527ba",
   "metadata": {},
   "outputs": [
    {
     "name": "stdout",
     "output_type": "stream",
     "text": [
      "John Doe\n",
      "John Doe\n"
     ]
    }
   ],
   "source": [
    "# 접근 방식은 유사\n",
    "print(person_class.name)  # 'John Doe'\n",
    "print(person_named.name)  # 'John Doe'"
   ]
  },
  {
   "cell_type": "code",
   "execution_count": null,
   "id": "adbb365c",
   "metadata": {},
   "outputs": [
    {
     "name": "stdout",
     "output_type": "stream",
     "text": [
      "False\n"
     ]
    }
   ],
   "source": [
    "# Custom Class에서 __eq__가 구현되지 않았으므로 object의 것을 상속.\n",
    "# 이 경우 id를 이용함.\n",
    "p1 = PersonClass('John Doe', 30, 'Developer')\n",
    "p2 = PersonClass('John Doe', 30, 'Developer')\n",
    "print(p1 == p2)  # False (기본적 객체 ID 비교 결과)"
   ]
  },
  {
   "cell_type": "code",
   "execution_count": null,
   "id": "4d0a29a1",
   "metadata": {},
   "outputs": [
    {
     "name": "stdout",
     "output_type": "stream",
     "text": [
      "True\n"
     ]
    }
   ],
   "source": [
    "# namedtuple은 값을 비교하도록 구현됨.\n",
    "n1 = Person('John Doe', 30, 'Developer')\n",
    "n2 = Person('John Doe', 30, 'Developer')\n",
    "print(n1 == n2)  # True (값 비교 결과)"
   ]
  },
  {
   "cell_type": "code",
   "execution_count": 45,
   "id": "998701c1",
   "metadata": {},
   "outputs": [],
   "source": [
    "# immutable이라는 점도 주의할 것\n",
    "person_class.age = 31  # 클래스 인스턴스의 변경 가능성\n",
    "# person_named.age = 31  # 오류! namedtuple은 불변"
   ]
  }
 ],
 "metadata": {
  "kernelspec": {
   "display_name": "jupyternote",
   "language": "python",
   "name": "python3"
  },
  "language_info": {
   "codemirror_mode": {
    "name": "ipython",
    "version": 3
   },
   "file_extension": ".py",
   "mimetype": "text/x-python",
   "name": "python",
   "nbconvert_exporter": "python",
   "pygments_lexer": "ipython3",
   "version": "3.10.18"
  }
 },
 "nbformat": 4,
 "nbformat_minor": 5
}
