{
 "cells": [
  {
   "cell_type": "markdown",
   "id": "707c94d0",
   "metadata": {},
   "source": [
    "## 자료형 분류 (collection)\n",
    "\n",
    "참고: [sequence, mapping, set](https://ds31x.tistory.com/122)"
   ]
  },
  {
   "cell_type": "markdown",
   "id": "10237097",
   "metadata": {},
   "source": [
    "## set\n",
    "\n",
    "참고: [set and frozneset](https://ds31x.tistory.com/33)"
   ]
  },
  {
   "cell_type": "code",
   "execution_count": null,
   "id": "e199134e",
   "metadata": {},
   "outputs": [],
   "source": [
    "A = {'a', 'b', 'd', 'f'}\n",
    "B = {'a', 'b', 'd', 'e'}\n",
    "\n",
    "A - B # difference"
   ]
  },
  {
   "cell_type": "code",
   "execution_count": null,
   "id": "4550ca88",
   "metadata": {},
   "outputs": [],
   "source": [
    "A & B # intersection"
   ]
  },
  {
   "cell_type": "code",
   "execution_count": null,
   "id": "32ee91eb",
   "metadata": {},
   "outputs": [],
   "source": [
    "A | B # union"
   ]
  },
  {
   "cell_type": "code",
   "execution_count": null,
   "id": "1dc12df0",
   "metadata": {},
   "outputs": [],
   "source": [
    "A ^ B # symmetric difference (A-B) \\cup (B-A)"
   ]
  },
  {
   "cell_type": "code",
   "execution_count": null,
   "id": "bbf52a86",
   "metadata": {},
   "outputs": [],
   "source": [
    "A = set(['a', 'c', 'd', 'f'])\n",
    "B = set('fdca')\n",
    "\n",
    "A"
   ]
  },
  {
   "cell_type": "code",
   "execution_count": null,
   "id": "8722f321",
   "metadata": {},
   "outputs": [],
   "source": [
    "B"
   ]
  },
  {
   "cell_type": "code",
   "execution_count": null,
   "id": "288e7762",
   "metadata": {},
   "outputs": [],
   "source": [
    "A == B"
   ]
  },
  {
   "cell_type": "code",
   "execution_count": null,
   "id": "92a18e20",
   "metadata": {},
   "outputs": [],
   "source": [
    "'a' in A"
   ]
  },
  {
   "cell_type": "code",
   "execution_count": null,
   "id": "c6eb63f2",
   "metadata": {},
   "outputs": [],
   "source": [
    "'b' not in A"
   ]
  },
  {
   "cell_type": "code",
   "execution_count": null,
   "id": "4db02aeb",
   "metadata": {},
   "outputs": [],
   "source": [
    "for c in A&B:\n",
    "    print(c, end = ' ')"
   ]
  },
  {
   "cell_type": "code",
   "execution_count": null,
   "id": "a61873a4",
   "metadata": {},
   "outputs": [],
   "source": [
    "d = {}\n",
    "d"
   ]
  },
  {
   "cell_type": "code",
   "execution_count": null,
   "id": "a044ab35",
   "metadata": {},
   "outputs": [],
   "source": [
    "s = set()\n",
    "type(s)"
   ]
  },
  {
   "cell_type": "code",
   "execution_count": null,
   "id": "4af6ae43",
   "metadata": {},
   "outputs": [],
   "source": [
    "s"
   ]
  },
  {
   "cell_type": "code",
   "execution_count": null,
   "id": "179966d0",
   "metadata": {},
   "outputs": [],
   "source": [
    "A = frozenset(['a','c','d','f'])\n",
    "B = frozenset(['a','b','d','e'])\n",
    "\n",
    "A-B"
   ]
  },
  {
   "cell_type": "code",
   "execution_count": null,
   "id": "750c1dd7",
   "metadata": {},
   "outputs": [],
   "source": [
    "A | B"
   ]
  },
  {
   "cell_type": "code",
   "execution_count": null,
   "id": "a2c2335e",
   "metadata": {},
   "outputs": [],
   "source": [
    "A & B"
   ]
  },
  {
   "cell_type": "code",
   "execution_count": null,
   "id": "6cb7d0a9",
   "metadata": {},
   "outputs": [],
   "source": [
    "A == B"
   ]
  },
  {
   "cell_type": "code",
   "execution_count": null,
   "id": "2ec64967",
   "metadata": {},
   "outputs": [],
   "source": [
    "'a' in A"
   ]
  },
  {
   "cell_type": "code",
   "execution_count": null,
   "id": "418c58e0",
   "metadata": {},
   "outputs": [],
   "source": [
    "for c in A & B:\n",
    "    print(c, end=' ')"
   ]
  },
  {
   "cell_type": "code",
   "execution_count": null,
   "id": "06f61943",
   "metadata": {},
   "outputs": [],
   "source": [
    "t = [3,3,3,7,7,'z','z']\n",
    "t = list(set(t))\n",
    "t"
   ]
  },
  {
   "cell_type": "markdown",
   "id": "b4f24bb2",
   "metadata": {},
   "source": [
    "## set is mutable, but frozneset is immutable\n",
    "\n",
    "참고: [set and frozneset](https://ds31x.tistory.com/33)"
   ]
  },
  {
   "cell_type": "code",
   "execution_count": null,
   "id": "ca20f659",
   "metadata": {},
   "outputs": [],
   "source": [
    "os = {1, 2, 3, 4, 5}\n",
    "os.add(6)\n",
    "os"
   ]
  },
  {
   "cell_type": "code",
   "execution_count": null,
   "id": "157bce0d",
   "metadata": {},
   "outputs": [],
   "source": [
    "os.discard(1)\n",
    "os"
   ]
  },
  {
   "cell_type": "code",
   "execution_count": null,
   "id": "d230675c",
   "metadata": {},
   "outputs": [],
   "source": [
    "os.update({7,8,9})\n",
    "os"
   ]
  },
  {
   "cell_type": "code",
   "execution_count": null,
   "id": "07c3b831",
   "metadata": {},
   "outputs": [],
   "source": [
    "os &= {2, 4, 6, 8}\n",
    "os"
   ]
  },
  {
   "cell_type": "code",
   "execution_count": null,
   "id": "40210dd1",
   "metadata": {},
   "outputs": [],
   "source": [
    "os -= {2, 4}\n",
    "os"
   ]
  },
  {
   "cell_type": "code",
   "execution_count": null,
   "id": "bbc9b405",
   "metadata": {},
   "outputs": [],
   "source": [
    "os ^= {1, 3, 6} # xor! / os에서 {1,3,6}에 있는 원소는 제거하고 없는 원소는 추가.\n",
    "os"
   ]
  },
  {
   "cell_type": "markdown",
   "id": "85e88a06",
   "metadata": {},
   "source": [
    "## set comprehension\n",
    "\n",
    "참고: [다음 url은 comprehension을 다룸](https://dsaint31.tistory.com/500)"
   ]
  },
  {
   "cell_type": "code",
   "execution_count": null,
   "id": "3a03fec4",
   "metadata": {},
   "outputs": [],
   "source": [
    "s1 = {x for x in range(1,11)}\n",
    "s1"
   ]
  },
  {
   "cell_type": "code",
   "execution_count": null,
   "id": "c316022d",
   "metadata": {},
   "outputs": [],
   "source": [
    "s2 = {x**2 for x in s1}\n",
    "s2"
   ]
  },
  {
   "cell_type": "code",
   "execution_count": null,
   "id": "8b35e2cc",
   "metadata": {},
   "outputs": [],
   "source": [
    "s3 = {x for x in s2 if x<50}\n",
    "s3"
   ]
  },
  {
   "cell_type": "code",
   "execution_count": null,
   "id": "affa4a3d",
   "metadata": {},
   "outputs": [],
   "source": []
  }
 ],
 "metadata": {
  "kernelspec": {
   "display_name": "jupyternote",
   "language": "python",
   "name": "python3"
  },
  "language_info": {
   "codemirror_mode": {
    "name": "ipython",
    "version": 3
   },
   "file_extension": ".py",
   "mimetype": "text/x-python",
   "name": "python",
   "nbconvert_exporter": "python",
   "pygments_lexer": "ipython3",
   "version": "3.10.18"
  }
 },
 "nbformat": 4,
 "nbformat_minor": 5
}
