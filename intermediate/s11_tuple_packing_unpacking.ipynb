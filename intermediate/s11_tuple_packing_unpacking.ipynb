{
 "cells": [
  {
   "cell_type": "markdown",
   "id": "92998b34",
   "metadata": {},
   "source": [
    "## packing and unpacking"
   ]
  },
  {
   "cell_type": "code",
   "execution_count": null,
   "id": "7b4b8abe",
   "metadata": {},
   "outputs": [],
   "source": [
    "tri_one = (12, 15)\n",
    "tri_one"
   ]
  },
  {
   "cell_type": "code",
   "execution_count": 1,
   "id": "77a4c9b6",
   "metadata": {},
   "outputs": [
    {
     "data": {
      "text/plain": [
       "(23, 12)"
      ]
     },
     "execution_count": 1,
     "metadata": {},
     "output_type": "execute_result"
    }
   ],
   "source": [
    "tri_two = 23, 12\n",
    "tri_two"
   ]
  },
  {
   "cell_type": "code",
   "execution_count": 2,
   "id": "44e7ce0a",
   "metadata": {},
   "outputs": [
    {
     "data": {
      "text/plain": [
       "(1,)"
      ]
     },
     "execution_count": 2,
     "metadata": {},
     "output_type": "execute_result"
    }
   ],
   "source": [
    "tmp = 1,\n",
    "tmp"
   ]
  },
  {
   "cell_type": "code",
   "execution_count": 3,
   "id": "dc7a0638",
   "metadata": {},
   "outputs": [
    {
     "name": "stdout",
     "output_type": "stream",
     "text": [
      "bt = 12, ht = 25\n"
     ]
    }
   ],
   "source": [
    "tri_three = (12, 25)\n",
    "bt, ht = tri_three\n",
    "print(f\"{bt = }, {ht = }\")"
   ]
  },
  {
   "cell_type": "code",
   "execution_count": 6,
   "id": "b77b99ca",
   "metadata": {},
   "outputs": [
    {
     "name": "stdout",
     "output_type": "stream",
     "text": [
      "n1 = 1, n2 = 2, others = [3, 4, 5]\n"
     ]
    }
   ],
   "source": [
    "nums = (1, 2, 3, 4, 5)\n",
    "n1, n2, *others = nums # 할당에서 오른쪽에서 *를 통핸 패킹은 list임.\n",
    "print(f\"{n1 = }, {n2 = }, {others = }\") \n"
   ]
  },
  {
   "cell_type": "code",
   "execution_count": null,
   "id": "d3a8d9a1",
   "metadata": {},
   "outputs": [
    {
     "name": "stdout",
     "output_type": "stream",
     "text": [
      "n1 = 0, n2 = 1, _ = [2, 3, 4, 5, 6, 7, 8, 9]\n"
     ]
    }
   ],
   "source": [
    "n1, n2, *_ = range(10) # tuple에 국한된 건 아님.\n",
    "print(f\"{n1 = }, {n2 = }, {_ = }\") "
   ]
  },
  {
   "cell_type": "code",
   "execution_count": 9,
   "id": "95297697",
   "metadata": {},
   "outputs": [
    {
     "data": {
      "text/plain": [
       "1"
      ]
     },
     "execution_count": 9,
     "metadata": {},
     "output_type": "execute_result"
    }
   ],
   "source": [
    "nums = tuple(range(1,6))\n",
    "\n",
    "first, *others, last = nums\n",
    "first"
   ]
  },
  {
   "cell_type": "code",
   "execution_count": 10,
   "id": "5c3394be",
   "metadata": {},
   "outputs": [
    {
     "data": {
      "text/plain": [
       "[2, 3, 4]"
      ]
     },
     "execution_count": 10,
     "metadata": {},
     "output_type": "execute_result"
    }
   ],
   "source": [
    "others"
   ]
  },
  {
   "cell_type": "code",
   "execution_count": 11,
   "id": "3c6d9cb1",
   "metadata": {},
   "outputs": [
    {
     "data": {
      "text/plain": [
       "5"
      ]
     },
     "execution_count": 11,
     "metadata": {},
     "output_type": "execute_result"
    }
   ],
   "source": [
    "last"
   ]
  },
  {
   "cell_type": "markdown",
   "id": "4af0560a",
   "metadata": {},
   "source": [
    "## 함수 호출 및 반환 과정에서의 패킹과 언패킹"
   ]
  },
  {
   "cell_type": "code",
   "execution_count": 12,
   "id": "aaf0be45",
   "metadata": {},
   "outputs": [
    {
     "data": {
      "text/plain": [
       "(1, 2, 3, 4, 5)"
      ]
     },
     "execution_count": 12,
     "metadata": {},
     "output_type": "execute_result"
    }
   ],
   "source": [
    "def ret_num():\n",
    "    return 1,2,3,4,5,\n",
    "\n",
    "nums = ret_num()\n",
    "nums"
   ]
  },
  {
   "cell_type": "code",
   "execution_count": 13,
   "id": "3d0514ce",
   "metadata": {},
   "outputs": [
    {
     "data": {
      "text/plain": [
       "(1,)"
      ]
     },
     "execution_count": 13,
     "metadata": {},
     "output_type": "execute_result"
    }
   ],
   "source": [
    "def ret_num():\n",
    "    return 1,\n",
    "\n",
    "nums = ret_num()\n",
    "nums"
   ]
  },
  {
   "cell_type": "code",
   "execution_count": 16,
   "id": "c7031186",
   "metadata": {},
   "outputs": [
    {
     "data": {
      "text/plain": [
       "1"
      ]
     },
     "execution_count": 16,
     "metadata": {},
     "output_type": "execute_result"
    }
   ],
   "source": [
    "n, *others = ret_num() # 비어있는 list객체\n",
    "n"
   ]
  },
  {
   "cell_type": "code",
   "execution_count": 15,
   "id": "fdb0de27",
   "metadata": {},
   "outputs": [
    {
     "data": {
      "text/plain": [
       "[]"
      ]
     },
     "execution_count": 15,
     "metadata": {},
     "output_type": "execute_result"
    }
   ],
   "source": [
    "others"
   ]
  },
  {
   "cell_type": "code",
   "execution_count": 17,
   "id": "da2f4f9b",
   "metadata": {},
   "outputs": [
    {
     "data": {
      "text/plain": [
       "1"
      ]
     },
     "execution_count": 17,
     "metadata": {},
     "output_type": "execute_result"
    }
   ],
   "source": [
    "def ret_num():\n",
    "    return 1,2,3,4,5\n",
    "\n",
    "n, *others, l = ret_num()\n",
    "\n",
    "n"
   ]
  },
  {
   "cell_type": "code",
   "execution_count": 18,
   "id": "3d575c04",
   "metadata": {},
   "outputs": [
    {
     "data": {
      "text/plain": [
       "[2, 3, 4]"
      ]
     },
     "execution_count": 18,
     "metadata": {},
     "output_type": "execute_result"
    }
   ],
   "source": [
    "others"
   ]
  },
  {
   "cell_type": "code",
   "execution_count": 19,
   "id": "9aa77137",
   "metadata": {},
   "outputs": [
    {
     "data": {
      "text/plain": [
       "5"
      ]
     },
     "execution_count": 19,
     "metadata": {},
     "output_type": "execute_result"
    }
   ],
   "source": [
    "l"
   ]
  },
  {
   "cell_type": "code",
   "execution_count": 20,
   "id": "467447d0",
   "metadata": {},
   "outputs": [
    {
     "name": "stdout",
     "output_type": "stream",
     "text": [
      "1, 2, (3, 4, 5)\n"
     ]
    }
   ],
   "source": [
    "def show_nums(n1, n2, *other):\n",
    "    print(n1, n2, other, sep=\", \")\n",
    "\n",
    "show_nums(1,2,3,4,5)"
   ]
  },
  {
   "cell_type": "code",
   "execution_count": 21,
   "id": "aca4885b",
   "metadata": {},
   "outputs": [
    {
     "name": "stdout",
     "output_type": "stream",
     "text": [
      "1, 2, ()\n"
     ]
    }
   ],
   "source": [
    "show_nums(1,2)"
   ]
  },
  {
   "cell_type": "code",
   "execution_count": 24,
   "id": "219016db",
   "metadata": {},
   "outputs": [
    {
     "data": {
      "text/plain": [
       "15"
      ]
     },
     "execution_count": 24,
     "metadata": {},
     "output_type": "execute_result"
    }
   ],
   "source": [
    "def sum(*nums):\n",
    "    s = 0\n",
    "    for i in nums:\n",
    "        s += i\n",
    "    return s\n",
    "\n",
    "sum(1,2,3,4,5)"
   ]
  },
  {
   "cell_type": "code",
   "execution_count": 25,
   "id": "05fa4461",
   "metadata": {},
   "outputs": [
    {
     "data": {
      "text/plain": [
       "5"
      ]
     },
     "execution_count": 25,
     "metadata": {},
     "output_type": "execute_result"
    }
   ],
   "source": [
    "sum(1, 4)"
   ]
  },
  {
   "cell_type": "code",
   "execution_count": 26,
   "id": "1d4ecf51",
   "metadata": {},
   "outputs": [
    {
     "name": "stdout",
     "output_type": "stream",
     "text": [
      "kim, 22, 202\n"
     ]
    }
   ],
   "source": [
    "def show_man(name, age, height):\n",
    "    print(name, age, height, sep=\", \")\n",
    "\n",
    "p = (\"kim\", 22, 202)\n",
    "show_man(*p)"
   ]
  },
  {
   "cell_type": "code",
   "execution_count": 27,
   "id": "37bd6a9e",
   "metadata": {},
   "outputs": [
    {
     "name": "stdout",
     "output_type": "stream",
     "text": [
      "list, 100, 150\n"
     ]
    }
   ],
   "source": [
    "p = [\"list\", 100, 150]\n",
    "show_man(*p)"
   ]
  },
  {
   "cell_type": "code",
   "execution_count": 28,
   "id": "4731ce50",
   "metadata": {},
   "outputs": [
    {
     "name": "stdout",
     "output_type": "stream",
     "text": [
      "1, 2, 3, 4\n"
     ]
    }
   ],
   "source": [
    "t = (1, 2, (3,4))\n",
    "\n",
    "a, b, [c, d] = t\n",
    "print( a, b, c, d, sep=\", \")"
   ]
  },
  {
   "cell_type": "code",
   "execution_count": 29,
   "id": "c2802e39",
   "metadata": {},
   "outputs": [
    {
     "name": "stdout",
     "output_type": "stream",
     "text": [
      "1 2 (3, 4)\n"
     ]
    }
   ],
   "source": [
    "a, b, i = t\n",
    "print(a, b, i)"
   ]
  },
  {
   "cell_type": "code",
   "execution_count": 31,
   "id": "c0605837",
   "metadata": {},
   "outputs": [
    {
     "name": "stdout",
     "output_type": "stream",
     "text": [
      "Hong 32\n"
     ]
    }
   ],
   "source": [
    "p = 'Hong', (32, 178), '010-1234-1234', 'Korea'\n",
    "\n",
    "name, (age, he), phone, nation = p\n",
    "print(name, age)"
   ]
  },
  {
   "cell_type": "code",
   "execution_count": 32,
   "id": "637d6cca",
   "metadata": {},
   "outputs": [
    {
     "name": "stdout",
     "output_type": "stream",
     "text": [
      "Hong 32\n"
     ]
    }
   ],
   "source": [
    "name, (age, _), _, _ = p\n",
    "print(name, age)"
   ]
  },
  {
   "cell_type": "markdown",
   "id": "4c90787e",
   "metadata": {},
   "source": [
    "## `for` 루프에서의 언패킹"
   ]
  },
  {
   "cell_type": "code",
   "execution_count": 36,
   "id": "38e457f8",
   "metadata": {},
   "outputs": [
    {
     "name": "stdout",
     "output_type": "stream",
     "text": [
      "Lee, 172\n",
      "Jung, 182\n",
      "Yoon, 179\n"
     ]
    }
   ],
   "source": [
    "ps = [('Lee', 172), ('Jung',182), ['Yoon', 179]]\n",
    "\n",
    "for n, h in ps:\n",
    "    print(n, h, sep = \", \")"
   ]
  },
  {
   "cell_type": "code",
   "execution_count": null,
   "id": "fbd3d50c",
   "metadata": {},
   "outputs": [],
   "source": []
  }
 ],
 "metadata": {
  "kernelspec": {
   "display_name": "jupyternote",
   "language": "python",
   "name": "python3"
  },
  "language_info": {
   "codemirror_mode": {
    "name": "ipython",
    "version": 3
   },
   "file_extension": ".py",
   "mimetype": "text/x-python",
   "name": "python",
   "nbconvert_exporter": "python",
   "pygments_lexer": "ipython3",
   "version": "3.10.18"
  }
 },
 "nbformat": 4,
 "nbformat_minor": 5
}
