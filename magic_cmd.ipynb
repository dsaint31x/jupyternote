{
 "cells": [
  {
   "cell_type": "markdown",
   "id": "8c1cf57d",
   "metadata": {},
   "source": [
    "# magic command 사용하기\n",
    "\n",
    "관련 url:[Magic commands-Jupyter NoteBook](https://ds31x.tistory.com/489)\n",
    "\n",
    "* **%magic_command**\n",
    "    * 셀 내의 라인 독립 실행.\n",
    "* **%%magic_command**\n",
    "    * 셀 내의 전체 내용관련 실행.\n",
    "    \n",
    "\n",
    "shell-like magic commands는 다음을 참고:\n",
    "\n",
    "* [IPython shell 에서 shell cmds 사용하기.](https://ds31x.tistory.com/101)"
   ]
  },
  {
   "cell_type": "markdown",
   "id": "815ad7d2",
   "metadata": {},
   "source": [
    "## shell-like magics"
   ]
  },
  {
   "cell_type": "code",
   "execution_count": null,
   "id": "ff22c7b8",
   "metadata": {},
   "outputs": [],
   "source": [
    "%pwd"
   ]
  },
  {
   "cell_type": "code",
   "execution_count": null,
   "id": "e831bc68",
   "metadata": {},
   "outputs": [],
   "source": [
    "import os\n",
    "a = %pwd\n",
    "b = a[: a.rindex(os.sep)]\n",
    "print(b)\n",
    "%cd {b}\n",
    "%pwd"
   ]
  },
  {
   "cell_type": "code",
   "execution_count": null,
   "id": "21f48a17",
   "metadata": {},
   "outputs": [],
   "source": [
    "%cd {a}\n",
    "%pwd"
   ]
  },
  {
   "cell_type": "code",
   "execution_count": null,
   "id": "36ccc06a",
   "metadata": {},
   "outputs": [],
   "source": [
    "%ls -laF"
   ]
  },
  {
   "cell_type": "code",
   "execution_count": null,
   "id": "aec238ab",
   "metadata": {},
   "outputs": [],
   "source": [
    "d = %env\n",
    "\n",
    "for name in d:\n",
    "    print(name)"
   ]
  },
  {
   "cell_type": "code",
   "execution_count": null,
   "id": "f8c4b1a9",
   "metadata": {},
   "outputs": [],
   "source": [
    "a = %env PATH\n",
    "for i in a.split(os.pathsep):\n",
    "    print(i)"
   ]
  },
  {
   "cell_type": "markdown",
   "id": "f55a5ccc",
   "metadata": {},
   "source": [
    "## %who, %whos\n",
    "\n",
    "`%who`와 `%whos`는 현재 세션에서 정의된 변수들을 확인\n",
    "\n",
    "* `%who` : 이름만 나열.\n",
    "* `%whos` : 이름, 타입, 내용 요약까지 표시.\n",
    "\n",
    "> `%who int` : `int`타입만 필터링해서 보여줌."
   ]
  },
  {
   "cell_type": "code",
   "execution_count": null,
   "id": "450984f7",
   "metadata": {},
   "outputs": [],
   "source": [
    "a = 7\n",
    "b = range(10)"
   ]
  },
  {
   "cell_type": "code",
   "execution_count": null,
   "id": "13c9e574",
   "metadata": {},
   "outputs": [],
   "source": [
    "%whos"
   ]
  },
  {
   "cell_type": "code",
   "execution_count": null,
   "id": "e1f6aa43",
   "metadata": {},
   "outputs": [],
   "source": [
    "%who"
   ]
  },
  {
   "cell_type": "markdown",
   "id": "91ed719f",
   "metadata": {},
   "source": [
    "## %who_ls\n",
    "\n",
    "`%who_ls` 는 session의 정의된 변수들을 list 객체로 반환.\n",
    "\n",
    "Python에서 코드로 사용가능함."
   ]
  },
  {
   "cell_type": "code",
   "execution_count": null,
   "id": "85b935fa",
   "metadata": {},
   "outputs": [],
   "source": [
    "l = %who_ls\n",
    "print(l)\n",
    "for name in l:\n",
    "    print(name, type(eval(name)))"
   ]
  },
  {
   "cell_type": "markdown",
   "id": "acb77a60",
   "metadata": {},
   "source": [
    "## %reset\n",
    "\n",
    "session의 모든 변수 삭제\n",
    "\n",
    "`%reset -f`는 prompt가 뜨지 않고 즉시 삭제함.\n",
    "\n",
    "* `-s` : 셀들의 실행 `In[ ]`, `Out[ ]` 의 history 초기화\n",
    "* `-d` : 디버그 정보까지 삭제"
   ]
  },
  {
   "cell_type": "code",
   "execution_count": null,
   "id": "6f1b5f1c",
   "metadata": {},
   "outputs": [],
   "source": [
    "%whos"
   ]
  },
  {
   "cell_type": "code",
   "execution_count": null,
   "id": "3086a3fb",
   "metadata": {},
   "outputs": [],
   "source": [
    "%reset -f"
   ]
  },
  {
   "cell_type": "code",
   "execution_count": null,
   "id": "78911c51",
   "metadata": {},
   "outputs": [],
   "source": [
    "%whos"
   ]
  },
  {
   "cell_type": "markdown",
   "id": "f7fe2386",
   "metadata": {},
   "source": [
    "## %hist, %history\n",
    "\n",
    "명령어 히스토리 보기"
   ]
  },
  {
   "cell_type": "code",
   "execution_count": null,
   "id": "1b1f60da",
   "metadata": {},
   "outputs": [],
   "source": [
    "%history -l 2"
   ]
  },
  {
   "cell_type": "markdown",
   "id": "f1732574",
   "metadata": {},
   "source": [
    "## %dhist\n",
    "\n",
    "지금까지 방문한 디렉토리 출력"
   ]
  },
  {
   "cell_type": "code",
   "execution_count": null,
   "id": "97a982ed",
   "metadata": {},
   "outputs": [],
   "source": [
    "%dhist"
   ]
  },
  {
   "cell_type": "markdown",
   "id": "00d80bd7",
   "metadata": {},
   "source": [
    "## %timeit\n",
    "\n",
    "실행시간을 반복 측정 후 평균치 반환"
   ]
  },
  {
   "cell_type": "code",
   "execution_count": null,
   "id": "b7b61db6",
   "metadata": {},
   "outputs": [],
   "source": [
    "import numpy as np\n",
    "\n",
    "x = np.random.random(500)\n",
    "%timeit np.sum(x)"
   ]
  },
  {
   "cell_type": "markdown",
   "id": "33dcf801",
   "metadata": {},
   "source": [
    "## ?, ?? 개별 도움말 보기"
   ]
  },
  {
   "cell_type": "code",
   "execution_count": null,
   "id": "b37a986d",
   "metadata": {},
   "outputs": [],
   "source": [
    "%timeit?"
   ]
  },
  {
   "cell_type": "code",
   "execution_count": null,
   "id": "5b36cd8d",
   "metadata": {},
   "outputs": [],
   "source": [
    "%hist"
   ]
  },
  {
   "cell_type": "markdown",
   "id": "0d0ae116",
   "metadata": {},
   "source": [
    "## %%writefile <file_path>\n",
    "\n",
    "셀을 file로 저장"
   ]
  },
  {
   "cell_type": "code",
   "execution_count": null,
   "id": "7ce424df",
   "metadata": {},
   "outputs": [],
   "source": [
    "%%writefile mylib.py\n",
    "'''test docstring\n",
    "by dsaint31\n",
    "'''\n",
    "def add_text(t1,t2):\n",
    "    \"\"\"\n",
    "    add_tx is test function\n",
    "    \"\"\"\n",
    "    return t1+t2\n",
    "\n",
    "def main():\n",
    "    print(\"Hello, mylib!\")\n",
    "\n",
    "if __name__ == \"__main__\":\n",
    "    main()"
   ]
  },
  {
   "cell_type": "code",
   "execution_count": null,
   "id": "11fbd7cb",
   "metadata": {},
   "outputs": [],
   "source": [
    "%cat mylib.py"
   ]
  },
  {
   "cell_type": "markdown",
   "id": "45a16fdf",
   "metadata": {},
   "source": [
    "## %run <python_file>\n",
    "\n",
    "python script 파일을 실행"
   ]
  },
  {
   "cell_type": "code",
   "execution_count": null,
   "id": "5903fd9e",
   "metadata": {},
   "outputs": [],
   "source": [
    "%run mylib.py"
   ]
  },
  {
   "cell_type": "markdown",
   "id": "bfd93a5f",
   "metadata": {},
   "source": [
    "## `%pdoc`\n",
    "\n",
    "* 특정 객체의 docstring 을 조회"
   ]
  },
  {
   "cell_type": "code",
   "execution_count": null,
   "id": "c5910945",
   "metadata": {},
   "outputs": [],
   "source": [
    "%pdoc len"
   ]
  },
  {
   "cell_type": "code",
   "execution_count": null,
   "id": "1e12be73",
   "metadata": {},
   "outputs": [],
   "source": [
    "import mylib\n",
    "%pdoc mylib"
   ]
  },
  {
   "cell_type": "markdown",
   "id": "9cab1c55",
   "metadata": {},
   "source": [
    "## %pdef\n",
    "\n",
    "객체의 선언 혹은 head 조회"
   ]
  },
  {
   "cell_type": "code",
   "execution_count": null,
   "id": "e8cb9d18",
   "metadata": {},
   "outputs": [],
   "source": [
    "%pdef mylib.add_text"
   ]
  },
  {
   "cell_type": "markdown",
   "id": "f95268c2",
   "metadata": {},
   "source": [
    "## %psource\n",
    "\n",
    "객체의 소스 코드 출력"
   ]
  },
  {
   "cell_type": "code",
   "execution_count": null,
   "id": "0b862c84",
   "metadata": {},
   "outputs": [],
   "source": [
    "%psource mylib.add_text"
   ]
  },
  {
   "cell_type": "code",
   "execution_count": null,
   "id": "e28d4038",
   "metadata": {},
   "outputs": [],
   "source": [
    "%psource mylib.add_text"
   ]
  },
  {
   "cell_type": "markdown",
   "id": "769d9d63",
   "metadata": {},
   "source": [
    "## `%%capture`\n",
    "\n",
    "* 특정 매직명령어의 실행결과를 별도의 변수로 저장\n",
    "* 해당 저장된 객체의 stdout 및 show()함수를 통해 내용 확인이 가능"
   ]
  },
  {
   "cell_type": "code",
   "execution_count": null,
   "id": "63539b1e",
   "metadata": {},
   "outputs": [],
   "source": [
    "%%capture output\n",
    "!ls"
   ]
  },
  {
   "cell_type": "code",
   "execution_count": null,
   "id": "6ee13f68",
   "metadata": {},
   "outputs": [],
   "source": [
    "output"
   ]
  },
  {
   "cell_type": "code",
   "execution_count": null,
   "id": "2771a3f0",
   "metadata": {},
   "outputs": [],
   "source": [
    "output.stdout"
   ]
  },
  {
   "cell_type": "code",
   "execution_count": null,
   "id": "cd78ddc2",
   "metadata": {},
   "outputs": [],
   "source": [
    "output.show()"
   ]
  },
  {
   "cell_type": "markdown",
   "id": "d0d2ff93",
   "metadata": {},
   "source": [
    "## %load <file_path>\n",
    "\n",
    "파일을 cell로 로드"
   ]
  },
  {
   "cell_type": "code",
   "execution_count": null,
   "id": "567f2e07",
   "metadata": {},
   "outputs": [],
   "source": [
    "# %load mylib.py\n",
    "'''test docstring\n",
    "by dsaint31\n",
    "'''\n",
    "def add_text(t1,t2):\n",
    "    \"\"\"\n",
    "    add_tx is test function\n",
    "    \"\"\"\n",
    "    return t1+t2\n",
    "\n",
    "def main():\n",
    "    print(\"Hello, mylib!\")\n",
    "\n",
    "if __name__ == \"__main__\":\n",
    "    main()\n"
   ]
  },
  {
   "cell_type": "code",
   "execution_count": null,
   "id": "c08d47c9",
   "metadata": {},
   "outputs": [],
   "source": [
    "r = 888\n",
    "%store r"
   ]
  },
  {
   "cell_type": "code",
   "execution_count": null,
   "id": "73c53c75",
   "metadata": {},
   "outputs": [],
   "source": [
    "del r"
   ]
  },
  {
   "cell_type": "code",
   "execution_count": null,
   "id": "374d66ff",
   "metadata": {},
   "outputs": [],
   "source": [
    "%store -r r\n",
    "r"
   ]
  },
  {
   "cell_type": "code",
   "execution_count": null,
   "id": "e87593e0",
   "metadata": {},
   "outputs": [],
   "source": [
    "%alias show_dir ls -l"
   ]
  },
  {
   "cell_type": "code",
   "execution_count": null,
   "id": "60cb30bd",
   "metadata": {},
   "outputs": [],
   "source": [
    "show_dir"
   ]
  },
  {
   "cell_type": "code",
   "execution_count": null,
   "id": "b0c7b34e",
   "metadata": {},
   "outputs": [],
   "source": [
    "%alias gs git status"
   ]
  },
  {
   "cell_type": "code",
   "execution_count": null,
   "id": "72f265e6",
   "metadata": {},
   "outputs": [],
   "source": [
    "gs"
   ]
  },
  {
   "cell_type": "markdown",
   "id": "fea4e554",
   "metadata": {},
   "source": [
    "## %magic\n",
    "\n",
    "magincommand 도움말 보기"
   ]
  },
  {
   "cell_type": "code",
   "execution_count": null,
   "id": "60bdafcb",
   "metadata": {},
   "outputs": [],
   "source": [
    "%magic"
   ]
  }
 ],
 "metadata": {
  "kernelspec": {
   "display_name": "jupyternote",
   "language": "python",
   "name": "python3"
  },
  "language_info": {
   "codemirror_mode": {
    "name": "ipython",
    "version": 3
   },
   "file_extension": ".py",
   "mimetype": "text/x-python",
   "name": "python",
   "nbconvert_exporter": "python",
   "pygments_lexer": "ipython3",
   "version": "3.10.18"
  }
 },
 "nbformat": 4,
 "nbformat_minor": 5
}
